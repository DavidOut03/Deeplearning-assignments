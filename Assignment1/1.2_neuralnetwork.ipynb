{
 "cells": [
  {
   "cell_type": "markdown",
   "metadata": {},
   "source": [
    "## Importy types"
   ]
  },
  {
   "cell_type": "code",
   "execution_count": 1,
   "metadata": {},
   "outputs": [],
   "source": [
    "from typing import List\n",
    "\n",
    "import random as rd\n",
    "import pandas as pd"
   ]
  },
  {
   "cell_type": "markdown",
   "metadata": {},
   "source": [
    "## Define Activation function"
   ]
  },
  {
   "cell_type": "code",
   "execution_count": null,
   "metadata": {},
   "outputs": [],
   "source": [
    "def relu(number : float):\n",
    "        if number > 0:\n",
    "            return number\n",
    "            \n",
    "        return 0\n",
    "\n",
    "def relu_derivative(x: float) -> float:\n",
    "    return 1 if x > 0 else 0"
   ]
  },
  {
   "cell_type": "markdown",
   "metadata": {},
   "source": [
    "## Training & Test set"
   ]
  },
  {
   "cell_type": "code",
   "execution_count": 3,
   "metadata": {},
   "outputs": [],
   "source": [
    "train_set = pd.DataFrame({\n",
    "    'x1': [0, 1, 1, 0],\n",
    "    'x2': [0, 1, 0, 1],\n",
    "    'x3': [1, 1, 1, 1],\n",
    "    'y': [0, 1, 1, 0]\n",
    "})\n",
    "\n",
    "test_set = pd.DataFrame({\n",
    "    'x1': [1],\n",
    "    'x2': [0],\n",
    "    'x3': [0],\n",
    "    'y': [1]\n",
    "})"
   ]
  },
  {
   "cell_type": "markdown",
   "metadata": {},
   "source": [
    "Define the weights and bias"
   ]
  },
  {
   "cell_type": "code",
   "execution_count": null,
   "metadata": {},
   "outputs": [],
   "source": [
    "w1: float = rd.random()\n",
    "w2: float = rd.random()\n",
    "w3: float = rd.random()\n",
    "b: float = rd.random()"
   ]
  },
  {
   "cell_type": "markdown",
   "metadata": {},
   "source": [
    "Define the functions for forward propegration in a perceptron"
   ]
  },
  {
   "cell_type": "code",
   "execution_count": null,
   "metadata": {},
   "outputs": [],
   "source": [
    "def compute_output(input1: float, input2: float, input3: float, bias: float) -> float:\n",
    "        return w1 * input1 + w2 * input2 + w3 * input3 + bias\n",
    "        \n",
    "\n",
    "def compute_outputs(input1: List[float], input2: List[float], input3: List[float], bias: float) -> List[float]:\n",
    "        return [compute_output(input1[i], input2[i], input3[i], bias=bias) for i in range(len(input1))]\n",
    "\n",
    "\n",
    "def compute_node_output(input1: float, input2: float, input3: float, bias: float) -> float:\n",
    "        value = compute_output(input1=input1, input2=input2, input3=input3)\n",
    "        return relu(value)\n",
    "\n",
    "def compute_node_outputs(input1: List[float], input2: List[float], input3: List[float], bias: float) -> List[float]:\n",
    "        return [compute_node_output(input1[i], input2[i], input3[i], bias=bias) for i in range(len(input1))]\n",
    "\n",
    "\n"
   ]
  },
  {
   "cell_type": "code",
   "execution_count": null,
   "metadata": {},
   "outputs": [
    {
     "data": {
      "text/plain": [
       "[1.0567576933942417, 2.426723615827829, 1.8075910997056432, 1.675890209516428]"
      ]
     },
     "execution_count": 6,
     "metadata": {},
     "output_type": "execute_result"
    }
   ],
   "source": [
    "x1 = train_set['x1'].tolist()\n",
    "x2 = train_set['x2'].tolist()\n",
    "x3 = train_set['x3'].tolist()\n",
    "yTarget = train_set['y'].tolist()\n",
    "\n",
    "yPredict = compute_outputs(x1, x2, x3)\n",
    "yPredict"
   ]
  },
  {
   "cell_type": "code",
   "execution_count": 7,
   "metadata": {},
   "outputs": [
    {
     "data": {
      "text/plain": [
       "1.653272119296385"
      ]
     },
     "execution_count": 7,
     "metadata": {},
     "output_type": "execute_result"
    }
   ],
   "source": [
    "def squared_error(ytarget: float, ypred: float):\n",
    "    return (ytarget - ypred) ** 2\n",
    "\n",
    "def mean_squared_error(targets: List[float], predictions: List[float]):\n",
    "    loss = 0\n",
    "    N = len(predictions)\n",
    "\n",
    "    for i in range(len(yPredict)):\n",
    "        y = targets[i]\n",
    "        ypred = predictions[i]\n",
    "        loss += squared_error(y, ypred)\n",
    "    \n",
    "    return loss / N\n",
    "\n",
    "\n",
    "mse = mean_squared_error(yTarget, yPredict)\n",
    "mse\n",
    "\n",
    "    \n"
   ]
  },
  {
   "cell_type": "code",
   "execution_count": null,
   "metadata": {},
   "outputs": [],
   "source": [
    "def squared_error_derivative(ytarget: float, ypred: float):\n",
    "    return -(ytarget - ypred) "
   ]
  },
  {
   "cell_type": "code",
   "execution_count": null,
   "metadata": {},
   "outputs": [
    {
     "name": "stdout",
     "output_type": "stream",
     "text": [
      "2.4834813092220713\n"
     ]
    }
   ],
   "source": [
    "def gradient(x: float, weight: float, bias: float, ytarget: float):\n",
    "    output = x * weight + bias\n",
    "    ypred = relu(output)\n",
    "\n",
    "    loss_prime = -2 * (ytarget - ypred)\n",
    "\n",
    "    return loss_prime * relu_derivative(output) * x\n",
    "\n",
    "def compute_new_weight(weight: float, learning_rate: float, gradient: float):\n",
    "    return weight - learning_rate * gradient"
   ]
  },
  {
   "cell_type": "code",
   "execution_count": null,
   "metadata": {},
   "outputs": [],
   "source": []
  },
  {
   "cell_type": "markdown",
   "metadata": {},
   "source": [
    "### Define the neural network class"
   ]
  },
  {
   "cell_type": "code",
   "execution_count": 10,
   "metadata": {},
   "outputs": [],
   "source": [
    "class NeuralNetwork:\n",
    "\n",
    "    w1: float\n",
    "    w2: float\n",
    "    w3: float\n",
    "    bias: float\n",
    "    \n",
    "    def __init__(self) -> None:\n",
    "        self.w1 = rd.random()\n",
    "        self.w2 = rd.random()\n",
    "        self.w3 = rd.random()\n",
    "        self.bias = rd.random()\n",
    "\n",
    "    def compute_output(self, input1: float, input2: float, input3: float) -> float:\n",
    "        value = self.w1 * input1 + self.w2 * input2 + self.w3 * input3 + self.bias\n",
    "        return relu(value)\n",
    "    \n",
    "    def compute_loss_squared(self, target : float, predicted_target: float) -> float:\n",
    "        return (target - predicted_target) ** 2\n",
    "    \n",
    "    def compute_mse(self, losses) -> float:\n",
    "        return sum(losses) / len(losses)\n",
    "    \n",
    "    def compute_new_weight(weight: float, learning_rate, loss : float) -> float:\n",
    "        return weight - learning_rate * self.grad(loss, weight)\n",
    "    \n",
    "    def derivative_relu(self, x: float):\n",
    "        if x > 0:\n",
    "            return 1\n",
    "        \n",
    "        return 0\n",
    "\n",
    "    def grad(self, loss_value: float, weight: float) -> float:\n",
    "        \n",
    "        return \n",
    "\n",
    "    \n",
    "    def train(self, df: pd.DataFrame):\n",
    "        details = pd.DataFrame({\n",
    "            'y': [],\n",
    "            'ypred': [],\n",
    "            'loss': []\n",
    "        })\n",
    "\n",
    "        for i, row in df.iterrows():\n",
    "            x1, x2, x3, y = row\n",
    "            output = self.compute_output(x1, x2, x3)\n",
    "            loss = self.compute_loss_squared(y, output)\n",
    "\n",
    "            new_row = pd.DataFrame({\n",
    "                'y': [y],\n",
    "                'ypred': [output],\n",
    "                'loss': [loss]\n",
    "            })\n",
    "\n",
    "            details = pd.concat([details, new_row], ignore_index=True)\n",
    "\n",
    "        return details\n",
    "\n",
    "\n",
    "        \n"
   ]
  },
  {
   "cell_type": "code",
   "execution_count": null,
   "metadata": {},
   "outputs": [],
   "source": []
  },
  {
   "cell_type": "code",
   "execution_count": 11,
   "metadata": {},
   "outputs": [
    {
     "data": {
      "text/plain": [
       "2.0979308938484977"
      ]
     },
     "execution_count": 11,
     "metadata": {},
     "output_type": "execute_result"
    }
   ],
   "source": [
    "nn = NeuralNetwork()\n",
    "details = nn.train(train_set)\n",
    "mse = nn.compute_mse(details['loss'])\n",
    "\n",
    "mse"
   ]
  }
 ],
 "metadata": {
  "kernelspec": {
   "display_name": "assignment1-SqM-3O9M-py3.12",
   "language": "python",
   "name": "python3"
  },
  "language_info": {
   "codemirror_mode": {
    "name": "ipython",
    "version": 3
   },
   "file_extension": ".py",
   "mimetype": "text/x-python",
   "name": "python",
   "nbconvert_exporter": "python",
   "pygments_lexer": "ipython3",
   "version": "3.12.2"
  }
 },
 "nbformat": 4,
 "nbformat_minor": 2
}
