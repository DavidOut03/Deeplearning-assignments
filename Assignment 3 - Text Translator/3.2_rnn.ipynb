{
 "cells": [
  {
   "cell_type": "markdown",
   "metadata": {},
   "source": [
    "Om de training op te versnellen "
   ]
  },
  {
   "cell_type": "code",
   "execution_count": 1,
   "metadata": {},
   "outputs": [
    {
     "name": "stdout",
     "output_type": "stream",
     "text": [
      "✅ cudart64_110.dll loaded manually\n"
     ]
    }
   ],
   "source": [
    "import os\n",
    "import ctypes\n",
    "\n",
    "# 🔐 Add CUDA DLL path for TensorFlow to load GPU libraries correctly on Windows\n",
    "cuda_path = r\"C:\\Program Files\\NVIDIA GPU Computing Toolkit\\CUDA\\v11.2\\bin\"\n",
    "os.add_dll_directory(cuda_path)\n",
    "\n",
    "# ✅ Attempt to load a core CUDA DLL manually (to verify it's accessible)\n",
    "try:\n",
    "    ctypes.WinDLL(os.path.join(cuda_path, \"cudart64_110.dll\"))\n",
    "    print(\"✅ cudart64_110.dll loaded manually\")\n",
    "except Exception as e:\n",
    "    print(\"❌ Failed to load cudart64_110.dll:\", e)\n",
    "\n",
    "import tensorflow as tf\n",
    "tf.keras.backend.clear_session()\n",
    "\n"
   ]
  },
  {
   "cell_type": "markdown",
   "metadata": {},
   "source": [
    "## 1) Preprocessing"
   ]
  },
  {
   "cell_type": "code",
   "execution_count": 2,
   "metadata": {},
   "outputs": [],
   "source": [
    "import pandas as pd\n",
    "\n",
    "# 100 rows is just for testing\n",
    "dataset = pd.read_excel('./data/data.xlsx', nrows=100000)\n",
    "english_sentences, dutch_sentences = dataset['English'].astype(str), dataset['Dutch'].astype(str)\n"
   ]
  },
  {
   "cell_type": "markdown",
   "metadata": {},
   "source": [
    "For during training we first need to preprocess the sentences for better performance. I found out that you need to add a start and end token to the target language sentences. This so that the model can know when to start a translation and when to end it, so it never creates a sentence to long or to short.\n",
    "\n",
    "```python\n",
    "Input: \"Hello, how are you?\"\n",
    "Target: \"<start> Hallo, hoe gaat het? <end>\"\n",
    "```"
   ]
  },
  {
   "cell_type": "code",
   "execution_count": 3,
   "metadata": {},
   "outputs": [],
   "source": [
    "def preprocess_input_sentence(sentence: str) -> str:\n",
    "    return sentence.lower().strip()\n",
    "\n",
    "def preprocess_target_sentence(sentence: str) -> str:\n",
    "    return f\"<start> {sentence.lower().strip()} <end>\"\n",
    "\n",
    "english_sentences = english_sentences.apply(preprocess_input_sentence)\n",
    "dutch_sentences = dutch_sentences.apply(preprocess_target_sentence)"
   ]
  },
  {
   "cell_type": "markdown",
   "metadata": {},
   "source": [
    "## 2) Tokenization and Padding"
   ]
  },
  {
   "cell_type": "markdown",
   "metadata": {},
   "source": [
    "The model has an input layer which expects a certain amount of inputs. But not all sentences are the same lenght. So padding needs to be added to the sentences and some sentences need to be cropped."
   ]
  },
  {
   "cell_type": "code",
   "execution_count": 4,
   "metadata": {},
   "outputs": [
    {
     "name": "stdout",
     "output_type": "stream",
     "text": [
      "English max length: 84\n",
      "Dutch max length: 87\n",
      "Recommended MAX_SEQUENCE_LENGTH (90th percentile):\n",
      "English: 32\n",
      "Dutch: 31\n"
     ]
    }
   ],
   "source": [
    "english_lengths = english_sentences.str.split().apply(len)\n",
    "dutch_lengths = dutch_sentences.str.split().apply(len)\n",
    "\n",
    "# Show basic stats\n",
    "print(\"English max length:\", english_lengths.max())\n",
    "print(\"Dutch max length:\", dutch_lengths.max())\n",
    "print(\"Recommended MAX_SEQUENCE_LENGTH (90th percentile):\")\n",
    "print(\"English:\", int(english_lengths.quantile(0.90)))\n",
    "print(\"Dutch:\", int(dutch_lengths.quantile(0.90)))"
   ]
  },
  {
   "cell_type": "markdown",
   "metadata": {},
   "source": [
    "So 90% of all sentences are lower or equal to 32 words for both so the max sequence lenght should be about 35 just to be safe."
   ]
  },
  {
   "cell_type": "code",
   "execution_count": 5,
   "metadata": {},
   "outputs": [],
   "source": [
    "from typing import List\n",
    "from tensorflow.keras.layers import TextVectorization\n",
    "from tensorflow.strings import lower, regex_replace\n",
    "\n",
    "MAX_VOCABULARY_SIZE = 15000\n",
    "MAX_SEQUENCE_LENGTH = 35\n",
    "\n",
    "def custom_standardization(input_text):\n",
    "    # Lowercase and remove punctuation, but keep <start> and <end>\n",
    "    lowercase = lower(input_text)\n",
    "    return regex_replace(lowercase, r\"[^\\w\\s<>]\", \"\")\n",
    "\n",
    "def tokenize_and_pad(sentences: List[str], max_len=MAX_SEQUENCE_LENGTH):\n",
    "    vectorizer = TextVectorization(\n",
    "        max_tokens=MAX_VOCABULARY_SIZE,\n",
    "        output_mode='int',\n",
    "        output_sequence_length=max_len,\n",
    "        standardize=custom_standardization)\n",
    "    \n",
    "    vectorizer.adapt(sentences)\n",
    "    return vectorizer(sentences), vectorizer\n",
    "\n",
    "encoder_input_data, eng_vectorizer = tokenize_and_pad(english_sentences)\n",
    "decoder_sequences, dut_vectorizer = tokenize_and_pad(dutch_sentences)\n"
   ]
  },
  {
   "cell_type": "code",
   "execution_count": 6,
   "metadata": {},
   "outputs": [],
   "source": [
    "import numpy as np\n",
    "\n",
    "decoder_sequences = decoder_sequences.numpy()\n",
    "\n",
    "decoder_input_data = []\n",
    "decoder_target_data = []\n",
    "\n",
    "for sequence in decoder_sequences:\n",
    "    input_sequence = sequence[:-1]      # drop <end>\n",
    "    target_sequence = sequence[1:]      # drop <start>\n",
    "\n",
    "    decoder_input_data.append(input_sequence)\n",
    "    decoder_target_data.append(target_sequence)"
   ]
  },
  {
   "cell_type": "markdown",
   "metadata": {},
   "source": [
    "**Why this shift is necessary:**\n",
    "\n",
    "During training, the decoder works as follows:\n",
    "1. Decoder input: Starting with `<start>` token and containing all words except the `<end>` token. This way, the decoder will never need to predict the `<end>` token as an input.\n",
    "\n",
    "2. Decoder target: Contains all the words plus the `<end>` token, but excludes the <start> token. This ensures the model never tries to predict <start> as an output.\n",
    "\n",
    "This shift properly aligns the input-target pairs for teacher forcing during training, where each token in the input helps predict the next token in the target translation. The model learns to generate each word based on previously generated words, and finally to generate the <end> token to properly stop the futher translation."
   ]
  },
  {
   "cell_type": "markdown",
   "metadata": {},
   "source": [
    "## 3) Creating the encoder"
   ]
  },
  {
   "cell_type": "code",
   "execution_count": 7,
   "metadata": {},
   "outputs": [],
   "source": [
    "from tensorflow.keras.models import Model\n",
    "from tensorflow.keras.layers import Input, LSTM, Embedding, Dense, Dropout\n",
    "\n",
    "# The total amount of dimensions the wods can have. The more dimensions the more complex realtions words can have.\n",
    "EMBEDDING_DIMENSIONS = 256\n",
    "LSTM_UNITS = 256\n",
    "\n",
    "encoder_input = Input(name=\"encoder_input_layer\", shape=(None,))\n",
    "encoder_embedding = Embedding(name=\"encoder_embedding_layer\",input_dim=MAX_VOCABULARY_SIZE, output_dim=EMBEDDING_DIMENSIONS)\n",
    "encoder_embedding_output = encoder_embedding(encoder_input)\n",
    "encoder_outputs, state_h, state_c = LSTM(name=\"encoder_lstm_layer\", units=LSTM_UNITS, return_state=True, implementation=2,)(encoder_embedding_output)"
   ]
  },
  {
   "cell_type": "markdown",
   "metadata": {},
   "source": [
    "`state_h` is the short term memory so the current context of what the lstm layer has read so far.\n",
    "\n",
    "`state_c` is the long term layer about what it ha slearned so far.\n",
    "\n",
    "Together they can summarize what the encoder understood from the english sentence. This is needed for the encoder so it has the same positional context for the dutch sentence so it wont directly translate it word by word."
   ]
  },
  {
   "cell_type": "markdown",
   "metadata": {},
   "source": [
    "## 4) Creating the decoder\n"
   ]
  },
  {
   "cell_type": "code",
   "execution_count": 8,
   "metadata": {},
   "outputs": [],
   "source": [
    "decoder_input = Input(name=\"decoder_input_layer\", shape=(None,))\n",
    "decoder_embedding = Embedding(name=\"decoder_embedding_layer\",input_dim=MAX_VOCABULARY_SIZE, output_dim=EMBEDDING_DIMENSIONS)\n",
    "decoder_embedding_outputs = decoder_embedding(decoder_input)\n",
    "decoder_lstm = LSTM(name=\"decoder_lstm_layer\", units=LSTM_UNITS, return_sequences=True, return_state=True, dropout=0.3, implementation=2,)\n",
    "\n",
    "decoder_outputs, _, _ = decoder_lstm(decoder_embedding_outputs, initial_state=[state_h, state_c])\n",
    "\n",
    "# For the output layer for each word should a prediction be made with how likely that word is thats why max vocabulary size is used.\n",
    "decoder_dense_layer = Dense(MAX_VOCABULARY_SIZE, activation='softmax', name=\"decoder_output_layer\")\n",
    "decoder_outputs_train = decoder_dense_layer(decoder_outputs)\n"
   ]
  },
  {
   "cell_type": "code",
   "execution_count": 9,
   "metadata": {},
   "outputs": [
    {
     "name": "stdout",
     "output_type": "stream",
     "text": [
      "Model: \"model\"\n",
      "__________________________________________________________________________________________________\n",
      " Layer (type)                   Output Shape         Param #     Connected to                     \n",
      "==================================================================================================\n",
      " encoder_input_layer (InputLaye  [(None, None)]      0           []                               \n",
      " r)                                                                                               \n",
      "                                                                                                  \n",
      " decoder_input_layer (InputLaye  [(None, None)]      0           []                               \n",
      " r)                                                                                               \n",
      "                                                                                                  \n",
      " encoder_embedding_layer (Embed  (None, None, 256)   3840000     ['encoder_input_layer[0][0]']    \n",
      " ding)                                                                                            \n",
      "                                                                                                  \n",
      " decoder_embedding_layer (Embed  (None, None, 256)   3840000     ['decoder_input_layer[0][0]']    \n",
      " ding)                                                                                            \n",
      "                                                                                                  \n",
      " encoder_lstm_layer (LSTM)      [(None, 256),        525312      ['encoder_embedding_layer[0][0]']\n",
      "                                 (None, 256),                                                     \n",
      "                                 (None, 256)]                                                     \n",
      "                                                                                                  \n",
      " decoder_lstm_layer (LSTM)      [(None, None, 256),  525312      ['decoder_embedding_layer[0][0]',\n",
      "                                 (None, 256),                     'encoder_lstm_layer[0][1]',     \n",
      "                                 (None, 256)]                     'encoder_lstm_layer[0][2]']     \n",
      "                                                                                                  \n",
      " decoder_output_layer (Dense)   (None, None, 15000)  3855000     ['decoder_lstm_layer[0][0]']     \n",
      "                                                                                                  \n",
      "==================================================================================================\n",
      "Total params: 12,585,624\n",
      "Trainable params: 12,585,624\n",
      "Non-trainable params: 0\n",
      "__________________________________________________________________________________________________\n"
     ]
    }
   ],
   "source": [
    "train_model = Model(inputs=[encoder_input, decoder_input], outputs=decoder_outputs_train)\n",
    "train_model.summary()"
   ]
  },
  {
   "cell_type": "code",
   "execution_count": 10,
   "metadata": {},
   "outputs": [],
   "source": [
    "train_model.compile(\n",
    "    optimizer='adam',\n",
    "    loss='sparse_categorical_crossentropy',\n",
    "    metrics=['accuracy']\n",
    ")"
   ]
  },
  {
   "cell_type": "markdown",
   "metadata": {},
   "source": [
    "## 5) Training the model"
   ]
  },
  {
   "cell_type": "markdown",
   "metadata": {},
   "source": [
    "Before the model can be trained the training set first needs to be created."
   ]
  },
  {
   "cell_type": "code",
   "execution_count": 11,
   "metadata": {},
   "outputs": [],
   "source": [
    "from tensorflow.data import Dataset, AUTOTUNE\n",
    "\n",
    "targets = np.expand_dims(np.array(decoder_target_data), -1)\n",
    "\n",
    "dataset = Dataset.from_tensor_slices((encoder_input_data, decoder_input_data, targets))\n",
    "\n",
    "def format(encoder_input, decoder_input, decoder_target):\n",
    "    return (encoder_input, decoder_input), decoder_target\n",
    "\n",
    "dataset = dataset.map(format).shuffle(1024).batch(64).prefetch(AUTOTUNE)\n",
    "\n",
    "# Split dataset: 80% train, 20% validation (by batches)\n",
    "total_batches = len(dataset)\n",
    "train_size = int(0.8 * total_batches)\n",
    "\n",
    "train_ds = dataset.take(train_size)\n",
    "val_ds = dataset.skip(train_size)\n"
   ]
  },
  {
   "cell_type": "markdown",
   "metadata": {},
   "source": [
    "I also added a callback for early stopping so it will automaticly stop when the validation loss increases."
   ]
  },
  {
   "cell_type": "code",
   "execution_count": 12,
   "metadata": {},
   "outputs": [
    {
     "name": "stdout",
     "output_type": "stream",
     "text": [
      "Epoch 1/25\n"
     ]
    },
    {
     "name": "stdout",
     "output_type": "stream",
     "text": [
      "1250/1250 [==============================] - 60s 45ms/step - loss: 1.8605 - accuracy: 0.6756 - val_loss: 0.5593 - val_accuracy: 0.9076\n",
      "Epoch 2/25\n",
      "1250/1250 [==============================] - 54s 44ms/step - loss: 0.3139 - accuracy: 0.9465 - val_loss: 0.1076 - val_accuracy: 0.9846\n",
      "Epoch 3/25\n",
      "1250/1250 [==============================] - 54s 44ms/step - loss: 0.0912 - accuracy: 0.9874 - val_loss: 0.0445 - val_accuracy: 0.9935\n",
      "Epoch 4/25\n",
      "1250/1250 [==============================] - 69s 56ms/step - loss: 0.0498 - accuracy: 0.9923 - val_loss: 0.0286 - val_accuracy: 0.9951\n",
      "Epoch 5/25\n",
      "1250/1250 [==============================] - 71s 57ms/step - loss: 0.0359 - accuracy: 0.9937 - val_loss: 0.0227 - val_accuracy: 0.9957\n",
      "Epoch 6/25\n",
      "1250/1250 [==============================] - 67s 54ms/step - loss: 0.0303 - accuracy: 0.9943 - val_loss: 0.0199 - val_accuracy: 0.9960\n",
      "Epoch 7/25\n",
      "1250/1250 [==============================] - 66s 52ms/step - loss: 0.0266 - accuracy: 0.9947 - val_loss: 0.0179 - val_accuracy: 0.9962\n",
      "Epoch 8/25\n",
      "1250/1250 [==============================] - 66s 53ms/step - loss: 0.0248 - accuracy: 0.9949 - val_loss: 0.0172 - val_accuracy: 0.9963\n",
      "Epoch 9/25\n",
      "1250/1250 [==============================] - 68s 55ms/step - loss: 0.0237 - accuracy: 0.9950 - val_loss: 0.0165 - val_accuracy: 0.9964\n",
      "Epoch 10/25\n",
      "1250/1250 [==============================] - 61s 49ms/step - loss: 0.0230 - accuracy: 0.9951 - val_loss: 0.0162 - val_accuracy: 0.9964\n",
      "Epoch 11/25\n",
      "1250/1250 [==============================] - 55s 44ms/step - loss: 0.0224 - accuracy: 0.9951 - val_loss: 0.0159 - val_accuracy: 0.9964\n",
      "Epoch 12/25\n",
      "1250/1250 [==============================] - 55s 44ms/step - loss: 0.0219 - accuracy: 0.9952 - val_loss: 0.0157 - val_accuracy: 0.9965\n",
      "Epoch 13/25\n",
      "1250/1250 [==============================] - 54s 43ms/step - loss: 0.0217 - accuracy: 0.9952 - val_loss: 0.0156 - val_accuracy: 0.9965\n",
      "Epoch 14/25\n",
      "1250/1250 [==============================] - 54s 43ms/step - loss: 0.0214 - accuracy: 0.9952 - val_loss: 0.0155 - val_accuracy: 0.9965\n",
      "Epoch 15/25\n",
      "1250/1250 [==============================] - 54s 44ms/step - loss: 0.0212 - accuracy: 0.9953 - val_loss: 0.0154 - val_accuracy: 0.9965\n",
      "Epoch 16/25\n",
      "1250/1250 [==============================] - 55s 44ms/step - loss: 0.0210 - accuracy: 0.9953 - val_loss: 0.0153 - val_accuracy: 0.9965\n",
      "Epoch 17/25\n",
      "1250/1250 [==============================] - 55s 44ms/step - loss: 0.0209 - accuracy: 0.9953 - val_loss: 0.0153 - val_accuracy: 0.9965\n",
      "Epoch 18/25\n",
      "1250/1250 [==============================] - 55s 44ms/step - loss: 0.0208 - accuracy: 0.9953 - val_loss: 0.0152 - val_accuracy: 0.9965\n",
      "Epoch 19/25\n",
      "1250/1250 [==============================] - 54s 43ms/step - loss: 0.0207 - accuracy: 0.9953 - val_loss: 0.0151 - val_accuracy: 0.9965\n",
      "Epoch 20/25\n",
      "1250/1250 [==============================] - 55s 44ms/step - loss: 0.0206 - accuracy: 0.9953 - val_loss: 0.0150 - val_accuracy: 0.9965\n",
      "Epoch 21/25\n",
      "1250/1250 [==============================] - 53s 43ms/step - loss: 0.0205 - accuracy: 0.9953 - val_loss: 0.0151 - val_accuracy: 0.9965\n",
      "Epoch 22/25\n",
      "1250/1250 [==============================] - 54s 43ms/step - loss: 0.0205 - accuracy: 0.9953 - val_loss: 0.0150 - val_accuracy: 0.9965\n",
      "Epoch 23/25\n",
      "1250/1250 [==============================] - 54s 43ms/step - loss: 0.0204 - accuracy: 0.9953 - val_loss: 0.0150 - val_accuracy: 0.9965\n",
      "Epoch 24/25\n",
      "1250/1250 [==============================] - 54s 43ms/step - loss: 0.0204 - accuracy: 0.9954 - val_loss: 0.0149 - val_accuracy: 0.9965\n",
      "Epoch 25/25\n",
      "1250/1250 [==============================] - 54s 43ms/step - loss: 0.0204 - accuracy: 0.9953 - val_loss: 0.0150 - val_accuracy: 0.9965\n"
     ]
    }
   ],
   "source": [
    "from tensorflow.keras.callbacks import EarlyStopping\n",
    "\n",
    "callbacks = [\n",
    "    EarlyStopping(monitor='val_loss', patience=5, restore_best_weights=True)\n",
    "]\n",
    "\n",
    "history = train_model.fit(\n",
    "    train_ds,\n",
    "    validation_data=val_ds,\n",
    "    epochs=25,                \n",
    "    callbacks=callbacks\n",
    ")\n",
    "\n"
   ]
  },
  {
   "cell_type": "code",
   "execution_count": 13,
   "metadata": {},
   "outputs": [
    {
     "data": {
      "image/png": "[encoded data removed]",
      "text/plain": [
       "<Figure size 1000x400 with 2 Axes>"
      ]
     },
     "metadata": {},
     "output_type": "display_data"
    }
   ],
   "source": [
    "import matplotlib.pyplot as plt\n",
    "\n",
    "plt.figure(figsize=(10,4))\n",
    "plt.subplot(1,2,1)\n",
    "plt.plot(history.history['accuracy'], label='Train')\n",
    "plt.plot(history.history['val_accuracy'], label='Val')\n",
    "plt.title(\"Accuracy\"); plt.legend()\n",
    "\n",
    "plt.subplot(1,2,2)\n",
    "plt.plot(history.history['loss'], label='Train')\n",
    "plt.plot(history.history['val_loss'], label='Val')\n",
    "plt.title(\"Loss\"); plt.legend()\n",
    "plt.tight_layout()\n",
    "plt.show()"
   ]
  },
  {
   "cell_type": "markdown",
   "metadata": {},
   "source": [
    "As you can see the accuracy and the loss are absurd and almost not possible. This is because whats also mentioned in the book accuracy and loss are not good measures. This because its problaby good at predicting the next word in the sequence but if you predicted the wrong word last time the next word is also wrong. To test this better the blue score is calculated this one is only not build into keras so later in the notebook will i mention it."
   ]
  },
  {
   "cell_type": "markdown",
   "metadata": {},
   "source": [
    "## 6) Translating a sentence"
   ]
  },
  {
   "cell_type": "markdown",
   "metadata": {},
   "source": [
    "Now that the RNN model is trained, it can’t be used for translation directly in its training form.\n",
    "Why? Because during training, the model learns to predict the entire output sentence at once, using the full target sentence as input (this is called teacher forcing).\n",
    "\n",
    "But during actual translation (inference), we don’t have the full target sentence — we have to generate it one word at a time.\n",
    "\n",
    "To solve this, I built a separate inference model that reuses the trained layers. It takes the encoded input and the last predicted word, and predicts the next word step-by-step, until it generates the <end> token.\n",
    "\n",
    "This process is called inference, and it's how the model performs real-time translation after training."
   ]
  },
  {
   "cell_type": "markdown",
   "metadata": {},
   "source": [
    "So first i created a new encoder model outputs the context of the english sentence to be used in the decoder."
   ]
  },
  {
   "cell_type": "code",
   "execution_count": 14,
   "metadata": {},
   "outputs": [],
   "source": [
    "encoder_model = Model(inputs=encoder_input, outputs=[state_h, state_c])"
   ]
  },
  {
   "cell_type": "code",
   "execution_count": 15,
   "metadata": {},
   "outputs": [],
   "source": [
    "# We want the next word so will need to use the previous word to predict the next word.\n",
    "decoder_input_infer = Input(shape=(1,),name=\"decoder_input_inference\")\n",
    "decoder_state_input_h = Input(shape=(LSTM_UNITS,), name=\"state_h_input\")\n",
    "decoder_state_input_c = Input(shape=(LSTM_UNITS,), name=\"state_c_input\")\n",
    "decoder_states_inputs = [decoder_state_input_h, decoder_state_input_c]\n",
    "\n",
    "decoder_emb_infer = decoder_embedding(decoder_input_infer)\n",
    "\n",
    "decoder_outputs_infer, state_h_infer, state_c_infer = decoder_lstm(\n",
    "    decoder_emb_infer, initial_state=decoder_states_inputs\n",
    ")\n",
    "\n",
    "decoder_probs = decoder_dense_layer(decoder_outputs_infer)\n",
    "\n",
    "decoder_model = Model(\n",
    "    inputs=[decoder_input_infer] + decoder_states_inputs,\n",
    "    outputs=[decoder_probs, state_h_infer, state_c_infer]\n",
    ")"
   ]
  },
  {
   "cell_type": "code",
   "execution_count": 16,
   "metadata": {},
   "outputs": [],
   "source": [
    "decoder_model = Model(\n",
    "    inputs=[decoder_input_infer] + decoder_states_inputs,\n",
    "    outputs=[decoder_probs, state_h_infer, state_c_infer]\n",
    ")"
   ]
  },
  {
   "cell_type": "code",
   "execution_count": 17,
   "metadata": {},
   "outputs": [],
   "source": [
    "from typing import Tuple\n",
    "\n",
    "word_index  = {\n",
    "    i: word for i, word in enumerate(dut_vectorizer.get_vocabulary())\n",
    "}\n",
    "\n",
    "\n",
    "def translate(sentence: str) -> str:\n",
    "    sentence = preprocess_input_sentence(sentence)\n",
    "    input_sequence = eng_vectorizer([sentence])\n",
    "\n",
    "    state_h, state_c = encoder_model.predict(input_sequence, verbose=0)\n",
    "    start_token_id = dut_vectorizer(\"<start>\").numpy()[0]\n",
    "    end_token_id = dut_vectorizer(\"<end>\").numpy()[0]\n",
    "\n",
    "    decoder_input = np.array([[start_token_id]])\n",
    "\n",
    "    translated_tokens = []\n",
    "\n",
    "    def get_highest_prediction(predictions: Tuple) -> int:\n",
    "        # predictions = (batch, time, vocab_size)\n",
    "        return np.argmax(predictions[0, -1, :])\n",
    "    \n",
    "    def get_translated_word(word_id: int) -> str:\n",
    "        return word_index.get(word_id, \"?\")\n",
    "\n",
    "\n",
    "    for _ in range(MAX_SEQUENCE_LENGTH):\n",
    "        predictions, new_state_h, new_state_c = decoder_model.predict([decoder_input, state_h, state_c], verbose=0)\n",
    "\n",
    "        next_word_id = get_highest_prediction(predictions)\n",
    "\n",
    "        # Check if the next word is the <end> token if so stop translation.\n",
    "        if next_word_id == end_token_id:\n",
    "            break;\n",
    "        \n",
    "        next_word = get_translated_word(next_word_id)\n",
    "        translated_tokens.append(next_word)\n",
    "        decoder_input = np.array([[next_word_id]])\n",
    "\n",
    "    return \" \".join(translated_tokens).capitalize() + \".\"\n",
    "\n"
   ]
  },
  {
   "cell_type": "markdown",
   "metadata": {},
   "source": [
    "## 7) Analysis of Model Performance"
   ]
  },
  {
   "cell_type": "markdown",
   "metadata": {},
   "source": [
    "### Common Issues Observed:\n",
    "1. **Token Repetition**\n",
    "   - The RNN model shows the same word patterns\n",
    "   - This likely means the model is getting stuck in certain patterns\n",
    "   - Likely due to the lack of attention mechanism\n",
    "\n",
    "2. **Grammar and Structure**\n",
    "   - The model doesn't maintain proper Dutch sentence structure\n",
    "   - Word order is often incorrect\n",
    "   - Missing or incorrect articles and prepositions\n",
    "\n",
    "3. **Meaning Preservation**\n",
    "   - Translations often lose the original meaning\n",
    "   - The model generates plausible Dutch words but in incorrect contexts\n",
    "   - This indicates the model hasn't learned the semantic relationships well\n",
    "\n",
    "### Potential Causes:\n",
    "1. **Training Data Issues**\n",
    "   - Possible data quality issues in preprocessing\n",
    "   - Imbalanced distribution of sentence lengths\n",
    "\n",
    "2. **Model Architecture**\n",
    "   - Lack of attention mechanism\n",
    "   - Single LSTM layer might not be sufficient\n",
    "   - Embedding dimensions might need adjustment\n",
    "\n",
    "3. **Training Process**\n",
    "   - Learning rate might need tuning\n",
    "   - Training might need more epochs\n",
    "   - Early stopping might be too aggressive\n",
    "\n",
    "### What i would improve next:\n",
    "1. **Data**\n",
    "   - Improve preprocessing\n",
    "   - Balance sentence length distribution\n",
    "\n",
    "2. **Model Architecture**\n",
    "   - Add attention mechanism\n",
    "   - Increase LSTM layers\n",
    "   - Adjust embedding dimensions\n",
    "\n",
    "3. **Training**\n",
    "   - Increase training epochs\n",
    "   - Add validation metrics"
   ]
  },
  {
   "cell_type": "markdown",
   "metadata": {},
   "source": [
    "## 8) Quantitative Evaluation"
   ]
  },
  {
   "cell_type": "code",
   "execution_count": 18,
   "metadata": {},
   "outputs": [
    {
     "name": "stderr",
     "output_type": "stream",
     "text": [
      "[nltk_data] Downloading package punkt to\n",
      "[nltk_data]     C:\\Users\\david\\AppData\\Roaming\\nltk_data...\n",
      "[nltk_data]   Package punkt is already up-to-date!\n"
     ]
    }
   ],
   "source": [
    "from nltk.translate.bleu_score import sentence_bleu, SmoothingFunction\n",
    "import nltk\n",
    "nltk.download('punkt')\n",
    "\n",
    "def calculate_bleu(reference, hypothesis):\n",
    "    smoothie = SmoothingFunction().method1\n",
    "    return sentence_bleu([reference.split()], hypothesis.split(), smoothing_function=smoothie)\n",
    "\n",
    "# Test sentences with their correct translations\n",
    "test_pairs = [\n",
    "    (\"Hello, how are you?\", \"Hallo, hoe gaat het met je?\"),\n",
    "    (\"This is my house.\", \"Dit is mijn huis.\"),\n",
    "    (\"Thank you for the help.\", \"Bedankt voor de hulp.\"),\n",
    "    (\"We are going to the beach.\", \"We gaan naar het strand.\"),\n",
    "    (\"I like to read books.\", \"Ik lees graag boeken.\"),\n",
    "    (\"Good night.\", \"Welterusten.\"),\n",
    "    (\"Where is the train station?\", \"Waar is het treinstation?\"),\n",
    "    (\"Can you help me, please?\", \"Kun je me helpen, alsjeblieft?\"),\n",
    "    (\"The weather is nice today.\", \"Het weer is mooi vandaag.\"),\n",
    "    (\"Let's go for a walk.\", \"Laten we gaan wandelen.\")\n",
    "]"
   ]
  },
  {
   "cell_type": "markdown",
   "metadata": {},
   "source": [
    "# Calculate BLEU scores"
   ]
  },
  {
   "cell_type": "code",
   "execution_count": 19,
   "metadata": {},
   "outputs": [
    {
     "name": "stdout",
     "output_type": "stream",
     "text": [
      "RNN Average BLEU Score: 0.0005\n",
      "\n",
      "Individual BLEU Scores:\n",
      "1. Hello, how are you?\n",
      "   Expected: Hallo, hoe gaat het met je?\n",
      "   Actual: Maar we maar we maar we maar we maar we maar we maar we maar we maar we maar we maar we maar we maar we maar we maar we maar we maar we maar.\n",
      "   BLEU Score: 0.0000\n",
      "\n",
      "2. This is my house.\n",
      "   Expected: Dit is mijn huis.\n",
      "   Actual: Het eerste de efficintie en de efficintie en de efficintie en de efficintie en de efficintie en de efficintie en de efficintie en de efficintie en de efficintie en de efficintie en de efficintie en.\n",
      "   BLEU Score: 0.0000\n",
      "\n",
      "3. Thank you for the help.\n",
      "   Expected: Bedankt voor de hulp.\n",
      "   Actual: Het is het is het is het is het is het is het is het is het is het is het is het is het is het is het is het is het is het.\n",
      "   BLEU Score: 0.0000\n",
      "\n",
      "4. We are going to the beach.\n",
      "   Expected: We gaan naar het strand.\n",
      "   Actual: Het dier springt we zijn we zijn we zijn we zijn we zijn we zijn we zijn we zijn we zijn we zijn we zijn we zijn we zijn we zijn we zijn we zijn.\n",
      "   BLEU Score: 0.0000\n",
      "\n",
      "5. I like to read books.\n",
      "   Expected: Ik lees graag boeken.\n",
      "   Actual: Het is maar het is maar het is maar het is maar het is maar het is maar het is maar het is maar het is maar het is maar het is maar het is.\n",
      "   BLEU Score: 0.0000\n",
      "\n",
      "6. Good night.\n",
      "   Expected: Welterusten.\n",
      "   Actual: Ik wil de film ik wil de film ik wil de film ik wil de film ik wil de film ik wil de film ik wil de film ik wil de film ik wil de.\n",
      "   BLEU Score: 0.0000\n",
      "\n",
      "7. Where is the train station?\n",
      "   Expected: Waar is het treinstation?\n",
      "   Actual: Als de efficintie van de efficintie van de efficintie van de efficintie van de efficintie van de efficintie van de efficintie van de efficintie van de efficintie van de efficintie van de efficintie van de.\n",
      "   BLEU Score: 0.0000\n",
      "\n",
      "8. Can you help me, please?\n",
      "   Expected: Kun je me helpen, alsjeblieft?\n",
      "   Actual: Het is het is het is het is het is het is het is het is het is het is het is het is het is het is het is het is het is het.\n",
      "   BLEU Score: 0.0000\n",
      "\n",
      "9. The weather is nice today.\n",
      "   Expected: Het weer is mooi vandaag.\n",
      "   Actual: De vlieg ik wilde is dit is dit is dit is dit is dit is dit is dit is dit is dit is dit is dit is dit is dit is dit is dit is.\n",
      "   BLEU Score: 0.0053\n",
      "\n",
      "10. Let's go for a walk.\n",
      "   Expected: Laten we gaan wandelen.\n",
      "   Actual: Het dit is het dit is het dit is het dit is het dit is het dit is het dit is het dit is het dit is het dit is het dit is het dit.\n",
      "   BLEU Score: 0.0000\n",
      "\n"
     ]
    }
   ],
   "source": [
    "rnn_scores = []\n",
    "\n",
    "for eng, dutch in test_pairs:\n",
    "    rnn_translation = translate(eng)\n",
    "    rnn_scores.append(calculate_bleu(dutch, rnn_translation))\n",
    "\n",
    "print(f\"RNN Average BLEU Score: {sum(rnn_scores)/len(rnn_scores):.4f}\")\n",
    "print(\"\\nIndividual BLEU Scores:\")\n",
    "for i, (eng, dutch) in enumerate(test_pairs):\n",
    "    print(f\"{i+1}. {eng}\")\n",
    "    print(f\"   Expected: {dutch}\")\n",
    "    print(f\"   Actual: {translate(eng)}\")\n",
    "    print(f\"   BLEU Score: {rnn_scores[i]:.4f}\\n\")\n"
   ]
  }
 ],
 "metadata": {
  "kernelspec": {
   "display_name": "assignment_3_-_text_translator-DEgrxmxA-py3.10",
   "language": "python",
   "name": "python3"
  },
  "language_info": {
   "codemirror_mode": {
    "name": "ipython",
    "version": 3
   },
   "file_extension": ".py",
   "mimetype": "text/x-python",
   "name": "python",
   "nbconvert_exporter": "python",
   "pygments_lexer": "ipython3",
   "version": "3.10.11"
  }
 },
 "nbformat": 4,
 "nbformat_minor": 2
}
