{
 "cells": [
  {
   "cell_type": "markdown",
   "metadata": {},
   "source": [
    "## 1) Preprocessing"
   ]
  },
  {
   "cell_type": "code",
   "execution_count": 198,
   "metadata": {},
   "outputs": [],
   "source": [
    "import pandas as pd\n",
    "\n",
    "# 100 rows is just for testing\n",
    "dataset = pd.read_excel('./data/data.xlsx', nrows=50000)\n",
    "english_sentences, dutch_sentences = dataset['English'].astype(str), dataset['Dutch'].astype(str)\n"
   ]
  },
  {
   "cell_type": "markdown",
   "metadata": {},
   "source": [
    "For during training we first need to preprocess the sentences for better performance. I found out that you need to add a start and end token to the target language sentences. This so that the model can know when to start a translation and when to end it, so it never creates a sentence to long or to short.\n",
    "\n",
    "```python\n",
    "Input: \"Hello, how are you?\"\n",
    "Target: \"<start> Hallo, hoe gaat het? <end>\"\n",
    "```"
   ]
  },
  {
   "cell_type": "code",
   "execution_count": 199,
   "metadata": {},
   "outputs": [],
   "source": [
    "def preprocess_input_sentence(sentence: str) -> str:\n",
    "    return sentence.lower().strip()\n",
    "\n",
    "def preprocess_target_sentence(sentence: str) -> str:\n",
    "    return f\"<start> {sentence.lower().strip()} <end>\"\n",
    "\n",
    "english_sentences = english_sentences.apply(preprocess_input_sentence)\n",
    "dutch_sentences = dutch_sentences.apply(preprocess_target_sentence)"
   ]
  },
  {
   "cell_type": "markdown",
   "metadata": {},
   "source": [
    "## 2) Tokenization and Padding"
   ]
  },
  {
   "cell_type": "markdown",
   "metadata": {},
   "source": [
    "The model has an input layer which expects a certain amount of inputs. But not all sentences are the same lenght. So padding needs to be added to the sentences and some sentences need to be cropped."
   ]
  },
  {
   "cell_type": "code",
   "execution_count": 200,
   "metadata": {},
   "outputs": [
    {
     "name": "stdout",
     "output_type": "stream",
     "text": [
      "English max length: 84\n",
      "Dutch max length: 87\n",
      "Recommended MAX_SEQUENCE_LENGTH (90th percentile):\n",
      "English: 32\n",
      "Dutch: 32\n"
     ]
    }
   ],
   "source": [
    "english_lengths = english_sentences.str.split().apply(len)\n",
    "dutch_lengths = dutch_sentences.str.split().apply(len)\n",
    "\n",
    "# Show basic stats\n",
    "print(\"English max length:\", english_lengths.max())\n",
    "print(\"Dutch max length:\", dutch_lengths.max())\n",
    "print(\"Recommended MAX_SEQUENCE_LENGTH (90th percentile):\")\n",
    "print(\"English:\", int(english_lengths.quantile(0.90)))\n",
    "print(\"Dutch:\", int(dutch_lengths.quantile(0.90)))"
   ]
  },
  {
   "cell_type": "markdown",
   "metadata": {},
   "source": [
    "So 90% of all sentences are lower or equal to 32 words for both so the max sequence lenght should be about 35 just to be safe."
   ]
  },
  {
   "cell_type": "code",
   "execution_count": null,
   "metadata": {},
   "outputs": [],
   "source": [
    "from typing import List\n",
    "from tensorflow.keras.layers import TextVectorization\n",
    "from tensorflow.strings import lower, regex_replace\n",
    "\n",
    "MAX_VOCABULARY_SIZE = 15000\n",
    "MAX_SEQUENCE_LENGTH = 35\n",
    "\n",
    "def custom_standardization(input_text):\n",
    "    # Lowercase and remove punctuation, but keep <start> and <end>\n",
    "    lowercase = lower(input_text)\n",
    "    return regex_replace(lowercase, r\"[^\\w\\s<>]\", \"\")\n",
    "\n",
    "def tokenize_and_pad(sentences: List[str], max_len=MAX_SEQUENCE_LENGTH):\n",
    "    vectorizer = TextVectorization(\n",
    "        max_tokens=MAX_VOCABULARY_SIZE,\n",
    "        output_mode='int',\n",
    "        output_sequence_length=max_len,\n",
    "        standardize=custom_standardization)\n",
    "    \n",
    "    vectorizer.adapt(sentences)\n",
    "    return vectorizer(sentences), vectorizer\n",
    "\n",
    "encoder_input_data, eng_vectorizer = tokenize_and_pad(english_sentences)\n",
    "decoder_sequences, dut_vectorizer = tokenize_and_pad(dutch_sentences)\n"
   ]
  },
  {
   "cell_type": "code",
   "execution_count": 202,
   "metadata": {},
   "outputs": [],
   "source": [
    "import numpy as np\n",
    "\n",
    "decoder_sequences = decoder_sequences.numpy()\n",
    "\n",
    "decoder_input_data = []\n",
    "decoder_target_data = []\n",
    "\n",
    "for sequence in decoder_sequences:\n",
    "    input_sequence = sequence[:-1]      # drop <end>\n",
    "    target_sequence = sequence[1:]      # drop <start>\n",
    "\n",
    "    decoder_input_data.append(input_sequence)\n",
    "    decoder_target_data.append(target_sequence)"
   ]
  },
  {
   "cell_type": "markdown",
   "metadata": {},
   "source": [
    "**Why this shift is necessary:**\n",
    "\n",
    "During training, the decoder works as follows:\n",
    "1. Decoder input: Starting with `<start>` token and containing all words except the `<end>` token. This way, the decoder will never need to predict the `<end>` token as an input.\n",
    "\n",
    "2. Decoder target: Contains all the words plus the `<end>` token, but excludes the <start> token. This ensures the model never tries to predict <start> as an output.\n",
    "\n",
    "This shift properly aligns the input-target pairs for teacher forcing during training, where each token in the input helps predict the next token in the target translation. The model learns to generate each word based on previously generated words, and finally to generate the <end> token to properly stop the futher translation."
   ]
  },
  {
   "cell_type": "markdown",
   "metadata": {},
   "source": [
    "## 3) Creating the encoder"
   ]
  },
  {
   "cell_type": "code",
   "execution_count": 203,
   "metadata": {},
   "outputs": [],
   "source": [
    "from tensorflow.keras.models import Model\n",
    "from tensorflow.keras.layers import Input, LSTM, Embedding, Dense, Dropout\n",
    "\n",
    "# The total amount of dimensions the wods can have. The more dimensions the more complex realtions words can have.\n",
    "EMBEDDING_DIMENSIONS = 256\n",
    "LSTM_UNITS = 256\n",
    "\n",
    "encoder_input = Input(name=\"encoder_input_layer\", shape=(None,))\n",
    "encoder_embedding = Embedding(name=\"encoder_embedding_layer\",input_dim=MAX_VOCABULARY_SIZE, output_dim=EMBEDDING_DIMENSIONS)\n",
    "encoder_embedding_output = encoder_embedding(encoder_input)\n",
    "encoder_outputs, state_h, state_c = LSTM(name=\"encoder_lstm_layer\", units=LSTM_UNITS, return_state=True)(encoder_embedding_output)"
   ]
  },
  {
   "cell_type": "markdown",
   "metadata": {},
   "source": [
    "`state_h` is the short term memory so the current context of what the lstm layer has read so far.\n",
    "\n",
    "`state_c` is the long term layer about what it ha slearned so far.\n",
    "\n",
    "Together they can summarize what the encoder understood from the english sentence. This is needed for the encoder so it has the same positional context for the dutch sentence so it wont directly translate it word by word."
   ]
  },
  {
   "cell_type": "markdown",
   "metadata": {},
   "source": [
    "## 4) Creating the decoder\n"
   ]
  },
  {
   "cell_type": "code",
   "execution_count": 204,
   "metadata": {},
   "outputs": [],
   "source": [
    "decoder_input = Input(name=\"decoder_input_layer\", shape=(None,))\n",
    "decoder_embedding = Embedding(name=\"decoder_embedding_layer\",input_dim=MAX_VOCABULARY_SIZE, output_dim=EMBEDDING_DIMENSIONS)\n",
    "decoder_embedding_outputs = decoder_embedding(decoder_input)\n",
    "decoder_lstm = LSTM(name=\"decoder_lstm_layer\", units=LSTM_UNITS, return_sequences=True, return_state=True, dropout=0.3)\n",
    "\n",
    "decoder_outputs, _, _ = decoder_lstm(decoder_embedding_outputs, initial_state=[state_h, state_c])\n",
    "\n",
    "# For the output layer for each word should a prediction be made with how likely that word is thats why max vocabulary size is used.\n",
    "decoder_dense_layer = Dense(MAX_VOCABULARY_SIZE, activation='softmax', name=\"decoder_output_layer\")\n",
    "decoder_outputs_train = decoder_dense_layer(decoder_outputs)\n"
   ]
  },
  {
   "cell_type": "code",
   "execution_count": 205,
   "metadata": {},
   "outputs": [
    {
     "name": "stdout",
     "output_type": "stream",
     "text": [
      "Model: \"model_28\"\n",
      "__________________________________________________________________________________________________\n",
      " Layer (type)                   Output Shape         Param #     Connected to                     \n",
      "==================================================================================================\n",
      " encoder_input_layer (InputLaye  [(None, None)]      0           []                               \n",
      " r)                                                                                               \n",
      "                                                                                                  \n",
      " decoder_input_layer (InputLaye  [(None, None)]      0           []                               \n",
      " r)                                                                                               \n",
      "                                                                                                  \n",
      " encoder_embedding_layer (Embed  (None, None, 256)   3840000     ['encoder_input_layer[0][0]']    \n",
      " ding)                                                                                            \n",
      "                                                                                                  \n",
      " decoder_embedding_layer (Embed  (None, None, 256)   3840000     ['decoder_input_layer[0][0]']    \n",
      " ding)                                                                                            \n",
      "                                                                                                  \n",
      " encoder_lstm_layer (LSTM)      [(None, 256),        525312      ['encoder_embedding_layer[0][0]']\n",
      "                                 (None, 256),                                                     \n",
      "                                 (None, 256)]                                                     \n",
      "                                                                                                  \n",
      " decoder_lstm_layer (LSTM)      [(None, None, 256),  525312      ['decoder_embedding_layer[0][0]',\n",
      "                                 (None, 256),                     'encoder_lstm_layer[0][1]',     \n",
      "                                 (None, 256)]                     'encoder_lstm_layer[0][2]']     \n",
      "                                                                                                  \n",
      " decoder_output_layer (Dense)   (None, None, 15000)  3855000     ['decoder_lstm_layer[0][0]']     \n",
      "                                                                                                  \n",
      "==================================================================================================\n",
      "Total params: 12,585,624\n",
      "Trainable params: 12,585,624\n",
      "Non-trainable params: 0\n",
      "__________________________________________________________________________________________________\n"
     ]
    }
   ],
   "source": [
    "train_model = Model(inputs=[encoder_input, decoder_input], outputs=decoder_outputs_train)\n",
    "train_model.summary()"
   ]
  },
  {
   "cell_type": "code",
   "execution_count": 206,
   "metadata": {},
   "outputs": [],
   "source": [
    "train_model.compile(\n",
    "    optimizer='adam',\n",
    "    loss='sparse_categorical_crossentropy',\n",
    "    metrics=['accuracy']\n",
    ")"
   ]
  },
  {
   "cell_type": "markdown",
   "metadata": {},
   "source": [
    "## 5) Training the model"
   ]
  },
  {
   "cell_type": "markdown",
   "metadata": {},
   "source": [
    "Before the model can be trained the training set first needs to be created."
   ]
  },
  {
   "cell_type": "code",
   "execution_count": 207,
   "metadata": {},
   "outputs": [],
   "source": [
    "from tensorflow.data import Dataset, AUTOTUNE\n",
    "\n",
    "targets = np.expand_dims(np.array(decoder_target_data), -1)\n",
    "\n",
    "dataset = Dataset.from_tensor_slices((encoder_input_data, decoder_input_data, targets))\n",
    "\n",
    "def format(encoder_input, decoder_input, decoder_target):\n",
    "    return (encoder_input, decoder_input), decoder_target\n",
    "\n",
    "dataset = dataset.map(format).shuffle(1024).batch(64).prefetch(AUTOTUNE)\n",
    "\n",
    "# Split dataset: 80% train, 20% validation (by batches)\n",
    "total_batches = len(dataset)\n",
    "train_size = int(0.8 * total_batches)\n",
    "\n",
    "train_ds = dataset.take(train_size)\n",
    "val_ds = dataset.skip(train_size)\n"
   ]
  },
  {
   "cell_type": "markdown",
   "metadata": {},
   "source": [
    "I also added a callback for early stopping so it will automaticly stop when the validation loss increases."
   ]
  },
  {
   "cell_type": "code",
   "execution_count": 208,
   "metadata": {},
   "outputs": [
    {
     "name": "stdout",
     "output_type": "stream",
     "text": [
      "Epoch 1/25\n",
      "625/625 [==============================] - 932s 1s/step - loss: 2.5909 - accuracy: 0.5716 - val_loss: 1.7438 - val_accuracy: 0.6395\n",
      "Epoch 2/25\n",
      "625/625 [==============================] - 1003s 2s/step - loss: 1.1812 - accuracy: 0.7607 - val_loss: 0.6825 - val_accuracy: 0.8755\n",
      "Epoch 3/25\n",
      "625/625 [==============================] - 995s 2s/step - loss: 0.4721 - accuracy: 0.9168 - val_loss: 0.3039 - val_accuracy: 0.9465\n",
      "Epoch 4/25\n",
      "625/625 [==============================] - 729s 1s/step - loss: 0.2310 - accuracy: 0.9589 - val_loss: 0.1661 - val_accuracy: 0.9708\n",
      "Epoch 5/25\n",
      "625/625 [==============================] - 475s 759ms/step - loss: 0.1249 - accuracy: 0.9811 - val_loss: 0.1057 - val_accuracy: 0.9848\n",
      "Epoch 6/25\n",
      "625/625 [==============================] - 475s 759ms/step - loss: 0.0781 - accuracy: 0.9893 - val_loss: 0.0781 - val_accuracy: 0.9881\n",
      "Epoch 7/25\n",
      "625/625 [==============================] - 475s 761ms/step - loss: 0.0567 - accuracy: 0.9915 - val_loss: 0.0630 - val_accuracy: 0.9896\n",
      "Epoch 8/25\n",
      "625/625 [==============================] - 473s 757ms/step - loss: 0.0450 - accuracy: 0.9928 - val_loss: 0.0543 - val_accuracy: 0.9907\n",
      "Epoch 9/25\n",
      "625/625 [==============================] - 476s 761ms/step - loss: 0.0383 - accuracy: 0.9934 - val_loss: 0.0483 - val_accuracy: 0.9912\n",
      "Epoch 10/25\n",
      "625/625 [==============================] - 473s 756ms/step - loss: 0.0338 - accuracy: 0.9939 - val_loss: 0.0449 - val_accuracy: 0.9916\n",
      "Epoch 11/25\n",
      "625/625 [==============================] - 507s 812ms/step - loss: 0.0306 - accuracy: 0.9942 - val_loss: 0.0421 - val_accuracy: 0.9919\n",
      "Epoch 12/25\n",
      "625/625 [==============================] - 481s 770ms/step - loss: 0.0288 - accuracy: 0.9944 - val_loss: 0.0403 - val_accuracy: 0.9922\n",
      "Epoch 13/25\n",
      "625/625 [==============================] - 479s 767ms/step - loss: 0.0272 - accuracy: 0.9945 - val_loss: 0.0388 - val_accuracy: 0.9923\n",
      "Epoch 14/25\n",
      "625/625 [==============================] - 478s 765ms/step - loss: 0.0260 - accuracy: 0.9946 - val_loss: 0.0379 - val_accuracy: 0.9925\n",
      "Epoch 15/25\n",
      "625/625 [==============================] - 480s 768ms/step - loss: 0.0253 - accuracy: 0.9947 - val_loss: 0.0368 - val_accuracy: 0.9926\n",
      "Epoch 16/25\n",
      "625/625 [==============================] - 483s 773ms/step - loss: 0.0246 - accuracy: 0.9948 - val_loss: 0.0360 - val_accuracy: 0.9927\n",
      "Epoch 17/25\n",
      "625/625 [==============================] - 485s 777ms/step - loss: 0.0240 - accuracy: 0.9948 - val_loss: 0.0357 - val_accuracy: 0.9927\n",
      "Epoch 18/25\n",
      "625/625 [==============================] - 480s 768ms/step - loss: 0.0237 - accuracy: 0.9949 - val_loss: 0.0355 - val_accuracy: 0.9928\n",
      "Epoch 19/25\n",
      "625/625 [==============================] - 483s 773ms/step - loss: 0.0232 - accuracy: 0.9949 - val_loss: 0.0351 - val_accuracy: 0.9928\n",
      "Epoch 20/25\n",
      "625/625 [==============================] - 481s 770ms/step - loss: 0.0228 - accuracy: 0.9950 - val_loss: 0.0348 - val_accuracy: 0.9929\n",
      "Epoch 21/25\n",
      "625/625 [==============================] - 485s 776ms/step - loss: 0.0226 - accuracy: 0.9950 - val_loss: 0.0347 - val_accuracy: 0.9929\n",
      "Epoch 22/25\n",
      "625/625 [==============================] - 482s 772ms/step - loss: 0.0224 - accuracy: 0.9950 - val_loss: 0.0347 - val_accuracy: 0.9929\n",
      "Epoch 23/25\n",
      "625/625 [==============================] - 482s 772ms/step - loss: 0.0223 - accuracy: 0.9950 - val_loss: 0.0344 - val_accuracy: 0.9929\n",
      "Epoch 24/25\n",
      "625/625 [==============================] - 481s 770ms/step - loss: 0.0222 - accuracy: 0.9950 - val_loss: 0.0342 - val_accuracy: 0.9930\n",
      "Epoch 25/25\n",
      "625/625 [==============================] - 481s 769ms/step - loss: 0.0220 - accuracy: 0.9951 - val_loss: 0.0345 - val_accuracy: 0.9929\n"
     ]
    }
   ],
   "source": [
    "from tensorflow.keras.callbacks import EarlyStopping\n",
    "\n",
    "callbacks = [\n",
    "    EarlyStopping(monitor='val_loss', patience=5, restore_best_weights=True)\n",
    "]\n",
    "\n",
    "history = train_model.fit(\n",
    "    train_ds,\n",
    "    validation_data=val_ds,\n",
    "    epochs=25,                \n",
    "    callbacks=callbacks\n",
    ")\n",
    "\n"
   ]
  },
  {
   "cell_type": "code",
   "execution_count": 209,
   "metadata": {},
   "outputs": [
    {
     "data": {
      "image/png": "[encoded data removed]",
      "text/plain": [
       "<Figure size 1000x400 with 2 Axes>"
      ]
     },
     "metadata": {},
     "output_type": "display_data"
    }
   ],
   "source": [
    "import matplotlib.pyplot as plt\n",
    "\n",
    "plt.figure(figsize=(10,4))\n",
    "plt.subplot(1,2,1)\n",
    "plt.plot(history.history['accuracy'], label='Train')\n",
    "plt.plot(history.history['val_accuracy'], label='Val')\n",
    "plt.title(\"Accuracy\"); plt.legend()\n",
    "\n",
    "plt.subplot(1,2,2)\n",
    "plt.plot(history.history['loss'], label='Train')\n",
    "plt.plot(history.history['val_loss'], label='Val')\n",
    "plt.title(\"Loss\"); plt.legend()\n",
    "plt.tight_layout()\n",
    "plt.show()"
   ]
  },
  {
   "cell_type": "markdown",
   "metadata": {},
   "source": [
    "As you can see the accuracy and the loss are absurd and almost not possible. This is because whats also mentioned in the book accuracy and loss are not good measures. This because its problaby good at predicting the next word in the sequence but if you predicted the wrong word last time the next word is also wrong. To test this better the blue score is calculated this one is only not build into keras."
   ]
  },
  {
   "cell_type": "markdown",
   "metadata": {},
   "source": [
    "## 6) Translating a sentence"
   ]
  },
  {
   "cell_type": "markdown",
   "metadata": {},
   "source": [
    "Now that the RNN model is trained, it can’t be used for translation directly in its training form.\n",
    "Why? Because during training, the model learns to predict the entire output sentence at once, using the full target sentence as input (this is called teacher forcing).\n",
    "\n",
    "But during actual translation (inference), we don’t have the full target sentence — we have to generate it one word at a time.\n",
    "\n",
    "To solve this, I built a separate inference model that reuses the trained layers. It takes the encoded input and the last predicted word, and predicts the next word step-by-step, until it generates the <end> token.\n",
    "\n",
    "This process is called inference, and it's how the model performs real-time translation after training."
   ]
  },
  {
   "cell_type": "markdown",
   "metadata": {},
   "source": [
    "So first i created a new encoder model outputs the context of the english sentence to be used in the decoder."
   ]
  },
  {
   "cell_type": "code",
   "execution_count": 210,
   "metadata": {},
   "outputs": [],
   "source": [
    "encoder_model = Model(inputs=encoder_input, outputs=[state_h, state_c])"
   ]
  },
  {
   "cell_type": "code",
   "execution_count": 211,
   "metadata": {},
   "outputs": [],
   "source": [
    "# We want the next word so will need to use the previous word to predict the next word.\n",
    "decoder_input_infer = Input(shape=(1,),name=\"decoder_input_inference\")\n",
    "decoder_state_input_h = Input(shape=(LSTM_UNITS,), name=\"state_h_input\")\n",
    "decoder_state_input_c = Input(shape=(LSTM_UNITS,), name=\"state_c_input\")\n",
    "decoder_states_inputs = [decoder_state_input_h, decoder_state_input_c]\n",
    "\n",
    "decoder_emb_infer = decoder_embedding(decoder_input_infer)\n",
    "\n",
    "decoder_outputs_infer, state_h_infer, state_c_infer = decoder_lstm(\n",
    "    decoder_emb_infer, initial_state=decoder_states_inputs\n",
    ")\n",
    "\n",
    "decoder_probs = decoder_dense_layer(decoder_outputs_infer)\n",
    "\n",
    "decoder_model = Model(\n",
    "    inputs=[decoder_input_infer] + decoder_states_inputs,\n",
    "    outputs=[decoder_probs, state_h_infer, state_c_infer]\n",
    ")"
   ]
  },
  {
   "cell_type": "code",
   "execution_count": 212,
   "metadata": {},
   "outputs": [],
   "source": [
    "decoder_model = Model(\n",
    "    inputs=[decoder_input_infer] + decoder_states_inputs,\n",
    "    outputs=[decoder_probs, state_h_infer, state_c_infer]\n",
    ")"
   ]
  },
  {
   "cell_type": "code",
   "execution_count": 213,
   "metadata": {},
   "outputs": [],
   "source": [
    "from typing import Tuple\n",
    "\n",
    "word_index  = {\n",
    "    i: word for i, word in enumerate(dut_vectorizer.get_vocabulary())\n",
    "}\n",
    "\n",
    "\n",
    "def translate(sentence: str) -> str:\n",
    "    sentence = preprocess_input_sentence(sentence)\n",
    "    input_sequence = eng_vectorizer([sentence])\n",
    "\n",
    "    state_h, state_c = encoder_model.predict(input_sequence, verbose=0)\n",
    "    start_token_id = dut_vectorizer(\"<start>\").numpy()[0]\n",
    "    end_token_id = dut_vectorizer(\"<end>\").numpy()[0]\n",
    "\n",
    "    decoder_input = np.array([[start_token_id]])\n",
    "\n",
    "    translated_tokens = []\n",
    "\n",
    "    def get_highest_prediction(predictions: Tuple) -> int:\n",
    "        # predictions = (batch, time, vocab_size)\n",
    "        return np.argmax(predictions[0, -1, :])\n",
    "    \n",
    "    def get_translated_word(word_id: int) -> str:\n",
    "        return word_index.get(word_id, \"?\")\n",
    "\n",
    "\n",
    "    for _ in range(MAX_SEQUENCE_LENGTH):\n",
    "        predictions, new_state_h, new_state_c = decoder_model.predict([decoder_input, state_h, state_c], verbose=0)\n",
    "\n",
    "        next_word_id = get_highest_prediction(predictions)\n",
    "\n",
    "        # Check if the next word is the <end> token if so stop translation.\n",
    "        if next_word_id == end_token_id:\n",
    "            break;\n",
    "        \n",
    "        next_word = get_translated_word(next_word_id)\n",
    "        translated_tokens.append(next_word)\n",
    "        decoder_input = np.array([[next_word_id]])\n",
    "\n",
    "    return \" \".join(translated_tokens).capitalize() + \".\"\n",
    "\n"
   ]
  },
  {
   "cell_type": "markdown",
   "metadata": {},
   "source": [
    "## 🔍 Qualitative Evaluation and Analysis"
   ]
  },
  {
   "cell_type": "code",
   "execution_count": 214,
   "metadata": {},
   "outputs": [
    {
     "data": {
      "text/html": [
       "<div>\n",
       "<style scoped>\n",
       "    .dataframe tbody tr th:only-of-type {\n",
       "        vertical-align: middle;\n",
       "    }\n",
       "\n",
       "    .dataframe tbody tr th {\n",
       "        vertical-align: top;\n",
       "    }\n",
       "\n",
       "    .dataframe thead th {\n",
       "        text-align: right;\n",
       "    }\n",
       "</style>\n",
       "<table border=\"1\" class=\"dataframe\">\n",
       "  <thead>\n",
       "    <tr style=\"text-align: right;\">\n",
       "      <th></th>\n",
       "      <th>Input</th>\n",
       "      <th>Output</th>\n",
       "    </tr>\n",
       "  </thead>\n",
       "  <tbody>\n",
       "    <tr>\n",
       "      <th>0</th>\n",
       "      <td>Hello, how are you?</td>\n",
       "      <td>Om en ten eerste en ten eerste en ten eerste e...</td>\n",
       "    </tr>\n",
       "    <tr>\n",
       "      <th>1</th>\n",
       "      <td>This is my house.</td>\n",
       "      <td>Veel voor de film is ik controleer het film is...</td>\n",
       "    </tr>\n",
       "    <tr>\n",
       "      <th>2</th>\n",
       "      <td>Thank you for the help.</td>\n",
       "      <td>Hartelijk bedankt bedankt bedankt bedankt beda...</td>\n",
       "    </tr>\n",
       "    <tr>\n",
       "      <th>3</th>\n",
       "      <td>We are going to the beach.</td>\n",
       "      <td>We de film is ik vind we de film is ik vind we...</td>\n",
       "    </tr>\n",
       "    <tr>\n",
       "      <th>4</th>\n",
       "      <td>I like to read books.</td>\n",
       "      <td>We wat gewoon wat gewoon wat gewoon wat gewoon...</td>\n",
       "    </tr>\n",
       "    <tr>\n",
       "      <th>5</th>\n",
       "      <td>Good night.</td>\n",
       "      <td>Leer anderen hierover leer anderen hierover le...</td>\n",
       "    </tr>\n",
       "    <tr>\n",
       "      <th>6</th>\n",
       "      <td>Where is the train station?</td>\n",
       "      <td>Word een film komt uit dit is het eerste dit i...</td>\n",
       "    </tr>\n",
       "    <tr>\n",
       "      <th>7</th>\n",
       "      <td>Can you help me, please?</td>\n",
       "      <td>Investeer duurzaam met deze hoofdloze eerste j...</td>\n",
       "    </tr>\n",
       "    <tr>\n",
       "      <th>8</th>\n",
       "      <td>The weather is nice today.</td>\n",
       "      <td>Dus ik hoop maar de linkse en ten eerste dit i...</td>\n",
       "    </tr>\n",
       "    <tr>\n",
       "      <th>9</th>\n",
       "      <td>Let's go for a walk.</td>\n",
       "      <td>Dit al konden we dit al konden we dit al konde...</td>\n",
       "    </tr>\n",
       "  </tbody>\n",
       "</table>\n",
       "</div>"
      ],
      "text/plain": [
       "                         Input  \\\n",
       "0          Hello, how are you?   \n",
       "1            This is my house.   \n",
       "2      Thank you for the help.   \n",
       "3   We are going to the beach.   \n",
       "4        I like to read books.   \n",
       "5                  Good night.   \n",
       "6  Where is the train station?   \n",
       "7     Can you help me, please?   \n",
       "8   The weather is nice today.   \n",
       "9         Let's go for a walk.   \n",
       "\n",
       "                                              Output  \n",
       "0  Om en ten eerste en ten eerste en ten eerste e...  \n",
       "1  Veel voor de film is ik controleer het film is...  \n",
       "2  Hartelijk bedankt bedankt bedankt bedankt beda...  \n",
       "3  We de film is ik vind we de film is ik vind we...  \n",
       "4  We wat gewoon wat gewoon wat gewoon wat gewoon...  \n",
       "5  Leer anderen hierover leer anderen hierover le...  \n",
       "6  Word een film komt uit dit is het eerste dit i...  \n",
       "7  Investeer duurzaam met deze hoofdloze eerste j...  \n",
       "8  Dus ik hoop maar de linkse en ten eerste dit i...  \n",
       "9  Dit al konden we dit al konden we dit al konde...  "
      ]
     },
     "execution_count": 214,
     "metadata": {},
     "output_type": "execute_result"
    }
   ],
   "source": [
    "test_sentences = [\n",
    "    \"Hello, how are you?\", \"This is my house.\", \"Thank you for the help.\",\n",
    "    \"We are going to the beach.\", \"I like to read books.\", \"Good night.\",\n",
    "    \"Where is the train station?\", \"Can you help me, please?\",\n",
    "    \"The weather is nice today.\", \"Let's go for a walk.\"\n",
    "]\n",
    "\n",
    "pd.DataFrame([(s, translate(s)) for s in test_sentences], columns=[\"Input\", \"Output\"])\n",
    "\n"
   ]
  },
  {
   "cell_type": "markdown",
   "metadata": {},
   "source": [
    "- ✅ Sentences contain valid Dutch words\n",
    "- ❌ Meaning is often incorrect or unrelated\n",
    "- ⚠️ No clear structure or grammar matching input    "
   ]
  }
 ],
 "metadata": {
  "kernelspec": {
   "display_name": "assignment_3_-_text_translator-PVGKOJDo-py3.10",
   "language": "python",
   "name": "python3"
  },
  "language_info": {
   "codemirror_mode": {
    "name": "ipython",
    "version": 3
   },
   "file_extension": ".py",
   "mimetype": "text/x-python",
   "name": "python",
   "nbconvert_exporter": "python",
   "pygments_lexer": "ipython3",
   "version": "3.10.11"
  }
 },
 "nbformat": 4,
 "nbformat_minor": 2
}
