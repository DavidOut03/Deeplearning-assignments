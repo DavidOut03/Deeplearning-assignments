{
 "cells": [
  {
   "cell_type": "markdown",
   "metadata": {},
   "source": [
    "# Introduction Text Translator\n",
    "\n",
    "The \n",
    "<a \n",
    "href=\"https://github.com/ajinkyakulkarni14/TED-Multilingual-Parallel-Corpus/tree/master\"> \n",
    "    original \n",
    "</a> \n",
    "dataset that was given did not contain the english version. I only am fluent in English and Dutch so i searched and found the\n",
    "<a \n",
    "href=\"https://opus.nlpl.eu/TED2020/en&nl/v1/TED2020\"> \n",
    "    Ted2020\n",
    "</a> \n",
    "dataset. So this is the dataset i am going to use."
   ]
  },
  {
   "cell_type": "markdown",
   "metadata": {},
   "source": [
    "\n",
    "## 1) Loading the Data\n",
    "\n",
    "The dataset contains 3 important files:\n",
    "| File        | Value |\n",
    "|-----------------|--------|\n",
    "| english.txt | contains english sentences. |\n",
    "| dutch.txt | contains dutch translations. |\n",
    "| alignments.xml | contains which english sentence belongs to which dutch sentence |\n"
   ]
  },
  {
   "cell_type": "code",
   "execution_count": 1,
   "metadata": {},
   "outputs": [],
   "source": [
    "data_folder = './data'"
   ]
  },
  {
   "cell_type": "markdown",
   "metadata": {},
   "source": [
    "### Loading in txt files"
   ]
  },
  {
   "cell_type": "code",
   "execution_count": 2,
   "metadata": {},
   "outputs": [],
   "source": [
    "def load_text(file_path):\n",
    "    with open(file_path, \"r\", encoding=\"utf-8\") as f:\n",
    "        return [line.strip() for line in f if line.strip()]\n",
    "    \n",
    "english_sentences = load_text(f\"{data_folder}/english.txt\")\n",
    "dutch_sentences = load_text(f\"{data_folder}/dutch.txt\")"
   ]
  },
  {
   "cell_type": "markdown",
   "metadata": {},
   "source": [
    "### Load in XML file"
   ]
  },
  {
   "cell_type": "code",
   "execution_count": 3,
   "metadata": {},
   "outputs": [],
   "source": [
    "import xml.etree.ElementTree as ET\n",
    "\n",
    "alignment_root = ET.parse(f\"{data_folder}/alignments.xml\").getroot()"
   ]
  },
  {
   "cell_type": "code",
   "execution_count": 4,
   "metadata": {},
   "outputs": [],
   "source": [
    "import re\n",
    "\n",
    "english_aligned = []\n",
    "dutch_aligned = []\n",
    "\n",
    "for link in alignment_root.findall(\".//link\"):\n",
    "    en_idx, nl_idx = link.attrib[\"xtargets\"].split(\";\")\n",
    "\n",
    "    try:\n",
    "        # Handle English index\n",
    "        en_index = int(en_idx.strip()) - 1\n",
    "        \n",
    "        # Handle Dutch index - take first number before any decimal point\n",
    "        nl_match = re.match(r'^\\s*(\\d+)', nl_idx.strip())\n",
    "        nl_index = int(nl_match.group(1)) - 1 if nl_match else None\n",
    "        \n",
    "        # Add to aligned lists if valid\n",
    "        if (0 <= en_index < len(english_sentences) and \n",
    "            0 <= nl_index < len(dutch_sentences)):\n",
    "            english_aligned.append(english_sentences[en_index])\n",
    "            dutch_aligned.append(dutch_sentences[nl_index])\n",
    "    except (ValueError, AttributeError):\n",
    "        # The dataset contains some anomalies so im going to skip these.\n",
    "        continue\n"
   ]
  },
  {
   "cell_type": "code",
   "execution_count": 5,
   "metadata": {},
   "outputs": [
    {
     "name": "stdout",
     "output_type": "stream",
     "text": [
      "The dataset contains: 298775 sentences.\n"
     ]
    },
    {
     "data": {
      "text/html": [
       "<div>\n",
       "<style scoped>\n",
       "    .dataframe tbody tr th:only-of-type {\n",
       "        vertical-align: middle;\n",
       "    }\n",
       "\n",
       "    .dataframe tbody tr th {\n",
       "        vertical-align: top;\n",
       "    }\n",
       "\n",
       "    .dataframe thead th {\n",
       "        text-align: right;\n",
       "    }\n",
       "</style>\n",
       "<table border=\"1\" class=\"dataframe\">\n",
       "  <thead>\n",
       "    <tr style=\"text-align: right;\">\n",
       "      <th></th>\n",
       "      <th>English</th>\n",
       "      <th>Dutch</th>\n",
       "    </tr>\n",
       "  </thead>\n",
       "  <tbody>\n",
       "    <tr>\n",
       "      <th>0</th>\n",
       "      <td>Thank you so much, Chris.</td>\n",
       "      <td>Hartelijk bedankt, Chris, het is werkelijk een...</td>\n",
       "    </tr>\n",
       "    <tr>\n",
       "      <th>1</th>\n",
       "      <td>And it's truly a great honor to have the oppor...</td>\n",
       "      <td>de gelegenheid te hebben twee keer op dit podi...</td>\n",
       "    </tr>\n",
       "    <tr>\n",
       "      <th>2</th>\n",
       "      <td>I have been blown away by this conference, and...</td>\n",
       "      <td>Ik ben zeer onder de indruk van deze conferent...</td>\n",
       "    </tr>\n",
       "    <tr>\n",
       "      <th>3</th>\n",
       "      <td>And I say that sincerely, partly because (Mock...</td>\n",
       "      <td>Ik meen dit, ook omdat – (Nepzucht) – ik het n...</td>\n",
       "    </tr>\n",
       "    <tr>\n",
       "      <th>4</th>\n",
       "      <td>(Laughter) Put yourselves in my position.</td>\n",
       "      <td>(Gelach) Bekijk het eens vanuit mijn perspectief!</td>\n",
       "    </tr>\n",
       "  </tbody>\n",
       "</table>\n",
       "</div>"
      ],
      "text/plain": [
       "                                             English  \\\n",
       "0                          Thank you so much, Chris.   \n",
       "1  And it's truly a great honor to have the oppor...   \n",
       "2  I have been blown away by this conference, and...   \n",
       "3  And I say that sincerely, partly because (Mock...   \n",
       "4          (Laughter) Put yourselves in my position.   \n",
       "\n",
       "                                               Dutch  \n",
       "0  Hartelijk bedankt, Chris, het is werkelijk een...  \n",
       "1  de gelegenheid te hebben twee keer op dit podi...  \n",
       "2  Ik ben zeer onder de indruk van deze conferent...  \n",
       "3  Ik meen dit, ook omdat – (Nepzucht) – ik het n...  \n",
       "4  (Gelach) Bekijk het eens vanuit mijn perspectief!  "
      ]
     },
     "execution_count": 5,
     "metadata": {},
     "output_type": "execute_result"
    }
   ],
   "source": [
    "import pandas as pd\n",
    "\n",
    "dataset = pd.DataFrame({\n",
    "    'English': english_aligned,\n",
    "    'Dutch': dutch_aligned\n",
    "})\n",
    "\n",
    "print(f\"The dataset contains: {len(dataset)} sentences.\")\n",
    "dataset.head()"
   ]
  },
  {
   "cell_type": "markdown",
   "metadata": {},
   "source": [
    "The dataset still may contain certain characters or strings which can cause errors in translations so we first need to remove those."
   ]
  },
  {
   "cell_type": "code",
   "execution_count": 6,
   "metadata": {},
   "outputs": [
    {
     "data": {
      "text/html": [
       "<div>\n",
       "<style scoped>\n",
       "    .dataframe tbody tr th:only-of-type {\n",
       "        vertical-align: middle;\n",
       "    }\n",
       "\n",
       "    .dataframe tbody tr th {\n",
       "        vertical-align: top;\n",
       "    }\n",
       "\n",
       "    .dataframe thead th {\n",
       "        text-align: right;\n",
       "    }\n",
       "</style>\n",
       "<table border=\"1\" class=\"dataframe\">\n",
       "  <thead>\n",
       "    <tr style=\"text-align: right;\">\n",
       "      <th></th>\n",
       "      <th>English</th>\n",
       "      <th>Dutch</th>\n",
       "    </tr>\n",
       "  </thead>\n",
       "  <tbody>\n",
       "    <tr>\n",
       "      <th>0</th>\n",
       "      <td>thank you so much chris</td>\n",
       "      <td>hartelijk bedankt chris het is werkelijk een eer</td>\n",
       "    </tr>\n",
       "    <tr>\n",
       "      <th>1</th>\n",
       "      <td>and its truly a great honor to have the opport...</td>\n",
       "      <td>de gelegenheid te hebben twee keer op dit podi...</td>\n",
       "    </tr>\n",
       "    <tr>\n",
       "      <th>2</th>\n",
       "      <td>i have been blown away by this conference and ...</td>\n",
       "      <td>ik ben zeer onder de indruk van deze conferent...</td>\n",
       "    </tr>\n",
       "    <tr>\n",
       "      <th>3</th>\n",
       "      <td>and i say that sincerely partly because mock s...</td>\n",
       "      <td>ik meen dit ook omdat nepzucht ik het nodig heb</td>\n",
       "    </tr>\n",
       "    <tr>\n",
       "      <th>4</th>\n",
       "      <td>laughter put yourselves in my position</td>\n",
       "      <td>gelach bekijk het eens vanuit mijn perspectief</td>\n",
       "    </tr>\n",
       "  </tbody>\n",
       "</table>\n",
       "</div>"
      ],
      "text/plain": [
       "                                             English  \\\n",
       "0                            thank you so much chris   \n",
       "1  and its truly a great honor to have the opport...   \n",
       "2  i have been blown away by this conference and ...   \n",
       "3  and i say that sincerely partly because mock s...   \n",
       "4             laughter put yourselves in my position   \n",
       "\n",
       "                                               Dutch  \n",
       "0   hartelijk bedankt chris het is werkelijk een eer  \n",
       "1  de gelegenheid te hebben twee keer op dit podi...  \n",
       "2  ik ben zeer onder de indruk van deze conferent...  \n",
       "3    ik meen dit ook omdat nepzucht ik het nodig heb  \n",
       "4     gelach bekijk het eens vanuit mijn perspectief  "
      ]
     },
     "execution_count": 6,
     "metadata": {},
     "output_type": "execute_result"
    }
   ],
   "source": [
    "def preprocess_sentence(sentence):\n",
    "    # Lowercase\n",
    "    sentence = sentence.lower()\n",
    "    # Remove special characters and numbers\n",
    "    sentence = re.sub(r'[^\\w\\s]', '', sentence)\n",
    "    # Remove extra spaces\n",
    "    sentence = re.sub(r'\\s+', ' ', sentence).strip()\n",
    "    return sentence\n",
    "\n",
    "for index, row in dataset.iterrows():\n",
    "    row['English'] = preprocess_sentence(row['English'])\n",
    "    row['Dutch'] = preprocess_sentence(row['Dutch'])\n",
    "\n",
    "dataset.head(5)"
   ]
  },
  {
   "cell_type": "code",
   "execution_count": 7,
   "metadata": {},
   "outputs": [],
   "source": [
    "dataset.to_excel('./data/data.xlsx', index=False, engine='openpyxl')"
   ]
  }
 ],
 "metadata": {
  "kernelspec": {
   "display_name": "assignment_3_-_text_translator-PVGKOJDo-py3.10",
   "language": "python",
   "name": "python3"
  },
  "language_info": {
   "codemirror_mode": {
    "name": "ipython",
    "version": 3
   },
   "file_extension": ".py",
   "mimetype": "text/x-python",
   "name": "python",
   "nbconvert_exporter": "python",
   "pygments_lexer": "ipython3",
   "version": "3.10.11"
  }
 },
 "nbformat": 4,
 "nbformat_minor": 2
}
