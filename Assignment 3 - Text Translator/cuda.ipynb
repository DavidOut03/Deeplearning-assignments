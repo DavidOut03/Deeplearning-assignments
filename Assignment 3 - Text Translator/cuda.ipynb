{
 "cells": [
  {
   "cell_type": "code",
   "execution_count": 1,
   "id": "cfc95003",
   "metadata": {},
   "outputs": [
    {
     "name": "stdout",
     "output_type": "stream",
     "text": [
      "✅ cudart64_110.dll loaded manually\n",
      "\n",
      "🧠 TensorFlow version: 2.10.0\n",
      "🔍 Built with CUDA: True\n",
      "⚙️ cuDNN enabled: True\n",
      "\n",
      "📦 Available devices: [PhysicalDevice(name='/physical_device:CPU:0', device_type='CPU'), PhysicalDevice(name='/physical_device:GPU:0', device_type='GPU')]\n",
      "📦 GPU devices: [PhysicalDevice(name='/physical_device:GPU:0', device_type='GPU')]\n",
      "✅ Memory growth enabled for GPU\n"
     ]
    }
   ],
   "source": [
    "import os\n",
    "import ctypes\n",
    "\n",
    "# 🔐 Add CUDA DLL path for TensorFlow to load GPU libraries correctly on Windows\n",
    "cuda_path = r\"C:\\Program Files\\NVIDIA GPU Computing Toolkit\\CUDA\\v11.2\\bin\"\n",
    "os.add_dll_directory(cuda_path)\n",
    "\n",
    "# ✅ Attempt to load a core CUDA DLL manually (to verify it's accessible)\n",
    "try:\n",
    "    ctypes.WinDLL(os.path.join(cuda_path, \"cudart64_110.dll\"))\n",
    "    print(\"✅ cudart64_110.dll loaded manually\")\n",
    "except Exception as e:\n",
    "    print(\"❌ Failed to load cudart64_110.dll:\", e)\n",
    "\n",
    "# 🧠 Now safely import TensorFlow\n",
    "import tensorflow as tf\n",
    "\n",
    "print(\"\\n🧠 TensorFlow version:\", tf.__version__)\n",
    "print(\"🔍 Built with CUDA:\", tf.test.is_built_with_cuda())\n",
    "print(\"⚙️ cuDNN enabled:\", tf.test.is_built_with_gpu_support())\n",
    "\n",
    "# 🧪 Check physical devices\n",
    "available_devices = tf.config.list_physical_devices()\n",
    "gpu_devices = tf.config.list_physical_devices('GPU')\n",
    "\n",
    "print(\"\\n📦 Available devices:\", available_devices)\n",
    "print(\"📦 GPU devices:\", gpu_devices)\n",
    "\n",
    "# 📊 Optional: Enable memory growth (avoids full GPU allocation)\n",
    "if gpu_devices:\n",
    "    try:\n",
    "        for gpu in gpu_devices:\n",
    "            tf.config.experimental.set_memory_growth(gpu, True)\n",
    "        print(\"✅ Memory growth enabled for GPU\")\n",
    "    except RuntimeError as e:\n",
    "        print(\"⚠️ Could not set memory growth:\", e)\n",
    "else:\n",
    "    print(\"❌ No GPU detected by TensorFlow\")\n",
    "\n",
    "import tensorflow as tf\n",
    "tf.keras.backend.clear_session()\n",
    "\n"
   ]
  }
 ],
 "metadata": {
  "kernelspec": {
   "display_name": "assignment_3_-_text_translator-DEgrxmxA-py3.10",
   "language": "python",
   "name": "python3"
  },
  "language_info": {
   "codemirror_mode": {
    "name": "ipython",
    "version": 3
   },
   "file_extension": ".py",
   "mimetype": "text/x-python",
   "name": "python",
   "nbconvert_exporter": "python",
   "pygments_lexer": "ipython3",
   "version": "3.10.11"
  }
 },
 "nbformat": 4,
 "nbformat_minor": 5
}
