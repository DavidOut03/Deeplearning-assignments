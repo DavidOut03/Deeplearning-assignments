{
 "cells": [
  {
   "cell_type": "code",
   "execution_count": 1,
   "metadata": {},
   "outputs": [
    {
     "name": "stdout",
     "output_type": "stream",
     "text": [
      "✅ cudart64_110.dll loaded manually\n"
     ]
    }
   ],
   "source": [
    "import os\n",
    "import ctypes\n",
    "\n",
    "# 🔐 Add CUDA DLL path for TensorFlow to load GPU libraries correctly on Windows\n",
    "cuda_path = r\"C:\\Program Files\\NVIDIA GPU Computing Toolkit\\CUDA\\v11.2\\bin\"\n",
    "os.add_dll_directory(cuda_path)\n",
    "\n",
    "# ✅ Attempt to load a core CUDA DLL manually (to verify it's accessible)\n",
    "try:\n",
    "    ctypes.WinDLL(os.path.join(cuda_path, \"cudart64_110.dll\"))\n",
    "    print(\"✅ cudart64_110.dll loaded manually\")\n",
    "except Exception as e:\n",
    "    print(\"❌ Failed to load cudart64_110.dll:\", e)\n",
    "\n",
    "import tensorflow as tf\n",
    "tf.keras.backend.clear_session()\n",
    "\n"
   ]
  },
  {
   "cell_type": "markdown",
   "metadata": {},
   "source": [
    "## 1) Preprocessing"
   ]
  },
  {
   "cell_type": "code",
   "execution_count": 2,
   "metadata": {},
   "outputs": [],
   "source": [
    "import pandas as pd\n",
    "\n",
    "# 100 rows is just for testing\n",
    "dataset = pd.read_excel('./data/data.xlsx', nrows=100000)\n",
    "english_sentences, dutch_sentences = dataset['English'].astype(str), dataset['Dutch'].astype(str)\n"
   ]
  },
  {
   "cell_type": "markdown",
   "metadata": {},
   "source": [
    "For during training we first need to preprocess the sentences for better performance. I found out dat you need to add a start and end token to the target language sentences. This so that the model can know when to start a translation and when to end it so it never creates a sentence to long or to short.\n",
    "\n",
    "```python\n",
    "Input: \"Hello, how are you?\"\n",
    "Target: \"<start> Hallo, hoe gaat het? <end>\"\n",
    "```"
   ]
  },
  {
   "cell_type": "code",
   "execution_count": 3,
   "metadata": {},
   "outputs": [],
   "source": [
    "def preprocess_input_sentence(sentence: str) -> str:\n",
    "    return sentence.lower().strip()\n",
    "\n",
    "def preprocess_target_sentence(sentence: str) -> str:\n",
    "    return f\"<start> {sentence.lower().strip()} <end>\"\n",
    "\n",
    "english_sentences = english_sentences.apply(preprocess_input_sentence)\n",
    "dutch_sentences = dutch_sentences.apply(preprocess_target_sentence)"
   ]
  },
  {
   "cell_type": "markdown",
   "metadata": {},
   "source": [
    "## 2) Tokenization and Padding"
   ]
  },
  {
   "cell_type": "markdown",
   "metadata": {},
   "source": [
    "The model has an input layer which expects a certain amount of inputs. But not all sentences are the same lenght. So padding needs to be added to the sentences and some sentences need to be cropped."
   ]
  },
  {
   "cell_type": "code",
   "execution_count": 4,
   "metadata": {},
   "outputs": [],
   "source": [
    "from typing import List\n",
    "from tensorflow.keras.layers import TextVectorization\n",
    "from tensorflow.strings import lower, regex_replace\n",
    "\n",
    "MAX_VOCABULARY_SIZE = 15000\n",
    "MAX_SEQUENCE_LENGTH = 35\n",
    "\n",
    "def custom_standardization(input_text):\n",
    "    # Lowercase and remove punctuation, but keep <start> and <end>\n",
    "    lowercase = lower(input_text)\n",
    "    return regex_replace(lowercase, r\"[^\\w\\s<>]\", \"\")\n",
    "\n",
    "def tokenize_and_pad(sentences: List[str], max_len=MAX_SEQUENCE_LENGTH):\n",
    "    vectorizer = TextVectorization(\n",
    "        max_tokens=MAX_VOCABULARY_SIZE,\n",
    "        output_mode='int',\n",
    "        output_sequence_length=max_len,\n",
    "        standardize=custom_standardization)\n",
    "    \n",
    "    vectorizer.adapt(sentences)\n",
    "    return vectorizer(sentences), vectorizer\n",
    "\n",
    "encoder_input_data, eng_vectorizer = tokenize_and_pad(english_sentences)\n",
    "decoder_sequences, dut_vectorizer = tokenize_and_pad(dutch_sentences)\n"
   ]
  },
  {
   "cell_type": "code",
   "execution_count": 5,
   "metadata": {},
   "outputs": [],
   "source": [
    "import numpy as np\n",
    "\n",
    "decoder_input_data = decoder_sequences[:, :-1]\n",
    "decoder_target_data = decoder_sequences[:, 1:]"
   ]
  },
  {
   "cell_type": "markdown",
   "metadata": {},
   "source": [
    "**Why this shift is necessary:**\n",
    "\n",
    "During training, the decoder works as follows:\n",
    "1. Decoder input: Starting with `<start>` token and containing all words except the `<end>` token. This way, the decoder will never need to predict the `<end>` token as an input.\n",
    "\n",
    "2. Decoder target: Contains all the words plus the `<end>` token, but excludes the <start> token. This ensures the model never tries to predict <start> as an output.\n",
    "\n",
    "This shift properly aligns the input-target pairs for teacher forcing during training, where each token in the input helps predict the next token in the target translation. The model learns to generate each word based on previously generated words, and finally to generate the <end> token to properly stop the futher translation."
   ]
  },
  {
   "cell_type": "markdown",
   "metadata": {},
   "source": [
    "## 3) Creating the encoder"
   ]
  },
  {
   "cell_type": "markdown",
   "metadata": {},
   "source": [
    "The slides contained certain classes which can not be imported from keras. The slides did not mention these but i got this code from the books repository `Deeplearning with python second edition.` "
   ]
  },
  {
   "cell_type": "code",
   "execution_count": 6,
   "metadata": {},
   "outputs": [],
   "source": [
    "from tensorflow.keras.layers import Input, Embedding, Dropout, Dense, LayerNormalization\n",
    "from tensorflow.keras.models import Model\n",
    "from tensorflow.keras.layers import MultiHeadAttention\n",
    "import tensorflow as tf\n",
    "\n",
    "# The total amount of dimensions the wods can have. The more dimensions the more complex realtions words can have.\n",
    "EMBEDDING_DIMENSIONS = 256\n",
    "FF_DIM = 256\n",
    "DROPOUT = 0.1\n",
    "NUM_HEADS = 4\n",
    "\n",
    "vocab_size_input = len(eng_vectorizer.get_vocabulary())\n",
    "vocab_size_target = len(dut_vectorizer.get_vocabulary())\n",
    "\n",
    "class PositionalEmbedding(tf.keras.layers.Layer):\n",
    "    def __init__(self, sequence_length, vocab_size, embed_dim):\n",
    "        super().__init__()\n",
    "        self.token_emb = Embedding(input_dim=vocab_size, output_dim=embed_dim)\n",
    "        self.pos_emb = Embedding(input_dim=sequence_length, output_dim=embed_dim)\n",
    "        self.sequence_length = sequence_length\n",
    "\n",
    "    def call(self, x):\n",
    "        positions = tf.range(start=0, limit=self.sequence_length, delta=1)\n",
    "        positions = self.pos_emb(positions)\n",
    "        positions = positions[:tf.shape(x)[1]] \n",
    "        x = self.token_emb(x)\n",
    "        return x + positions\n",
    "\n",
    "# Transformer Encoder Block\n",
    "def transformer_encoder(inputs, num_layers=4):\n",
    "    x = inputs\n",
    "    for _ in range(num_layers):\n",
    "        x_res = LayerNormalization(epsilon=1e-6)(x)\n",
    "        attention_output = MultiHeadAttention(num_heads=NUM_HEADS, key_dim=EMBEDDING_DIMENSIONS)(x_res, x_res)\n",
    "        x = Dropout(DROPOUT)(attention_output + x)\n",
    "        x_res = LayerNormalization(epsilon=1e-6)(x)\n",
    "        ffn_output = Dense(FF_DIM, activation=\"relu\")(x_res)\n",
    "        ffn_output = Dense(EMBEDDING_DIMENSIONS)(ffn_output)\n",
    "        x = Dropout(DROPOUT)(ffn_output + x)\n",
    "    return x\n",
    "\n",
    "# Transformer Decoder Block\n",
    "def transformer_decoder(x, encoder_output):\n",
    "    # Self-attention with residual + LayerNorm\n",
    "    x_res = x\n",
    "    attn1 = MultiHeadAttention(num_heads=NUM_HEADS, key_dim=EMBEDDING_DIMENSIONS)(x, x)\n",
    "    x = Dropout(DROPOUT)(attn1 + x_res)\n",
    "    x = LayerNormalization(epsilon=1e-6)(x)\n",
    "\n",
    "    # Cross-attention (encoder-decoder) with residual + LayerNorm\n",
    "    x_res = x\n",
    "    attn2 = MultiHeadAttention(num_heads=NUM_HEADS, key_dim=EMBEDDING_DIMENSIONS)(x, encoder_output)\n",
    "    x = Dropout(DROPOUT)(attn2 + x_res)\n",
    "    x = LayerNormalization(epsilon=1e-6)(x)\n",
    "\n",
    "    # Feed-forward network with residual + LayerNorm\n",
    "    x_res = x\n",
    "    ffn_output = Dense(FF_DIM, activation=\"relu\")(x)\n",
    "    ffn_output = Dense(EMBEDDING_DIMENSIONS)(ffn_output)\n",
    "    x = Dropout(DROPOUT)(ffn_output + x_res)\n",
    "    x = LayerNormalization(epsilon=1e-6)(x)\n",
    "\n",
    "    return x\n"
   ]
  },
  {
   "cell_type": "code",
   "execution_count": 7,
   "metadata": {},
   "outputs": [],
   "source": [
    "\n",
    "\n",
    "\n",
    "encoder_input = Input(name=\"encoder_input_layer\", shape=(None,))\n",
    "x = PositionalEmbedding(MAX_SEQUENCE_LENGTH, vocab_size_input, EMBEDDING_DIMENSIONS)(encoder_input)\n",
    "x = Dropout(0.1)(x)\n",
    "enc_out = transformer_encoder(x)"
   ]
  },
  {
   "cell_type": "markdown",
   "metadata": {},
   "source": [
    "## 4) Creating the decoder"
   ]
  },
  {
   "cell_type": "code",
   "execution_count": 8,
   "metadata": {},
   "outputs": [],
   "source": [
    "decoder_input = Input(name=\"decoder_input_layer\", shape=(None,))\n",
    "dec_emb = PositionalEmbedding(MAX_SEQUENCE_LENGTH, vocab_size_target, EMBEDDING_DIMENSIONS)(decoder_input)\n",
    "dec_out = transformer_decoder(dec_emb, enc_out)\n",
    "\n",
    "outputs = Dense(vocab_size_target, activation=\"softmax\")(dec_out)"
   ]
  },
  {
   "cell_type": "code",
   "execution_count": 9,
   "metadata": {},
   "outputs": [
    {
     "name": "stdout",
     "output_type": "stream",
     "text": [
      "Model: \"transformer_model\"\n",
      "__________________________________________________________________________________________________\n",
      " Layer (type)                   Output Shape         Param #     Connected to                     \n",
      "==================================================================================================\n",
      " encoder_input_layer (InputLaye  [(None, None)]      0           []                               \n",
      " r)                                                                                               \n",
      "                                                                                                  \n",
      " positional_embedding (Position  (None, None, 256)   390144      ['encoder_input_layer[0][0]']    \n",
      " alEmbedding)                                                                                     \n",
      "                                                                                                  \n",
      " dropout (Dropout)              (None, None, 256)    0           ['positional_embedding[0][0]']   \n",
      "                                                                                                  \n",
      " layer_normalization (LayerNorm  (None, None, 256)   512         ['dropout[0][0]']                \n",
      " alization)                                                                                       \n",
      "                                                                                                  \n",
      " multi_head_attention (MultiHea  (None, None, 256)   1051904     ['layer_normalization[0][0]',    \n",
      " dAttention)                                                      'layer_normalization[0][0]']    \n",
      "                                                                                                  \n",
      " tf.__operators__.add (TFOpLamb  (None, None, 256)   0           ['multi_head_attention[0][0]',   \n",
      " da)                                                              'dropout[0][0]']                \n",
      "                                                                                                  \n",
      " dropout_1 (Dropout)            (None, None, 256)    0           ['tf.__operators__.add[0][0]']   \n",
      "                                                                                                  \n",
      " layer_normalization_1 (LayerNo  (None, None, 256)   512         ['dropout_1[0][0]']              \n",
      " rmalization)                                                                                     \n",
      "                                                                                                  \n",
      " dense (Dense)                  (None, None, 256)    65792       ['layer_normalization_1[0][0]']  \n",
      "                                                                                                  \n",
      " dense_1 (Dense)                (None, None, 256)    65792       ['dense[0][0]']                  \n",
      "                                                                                                  \n",
      " tf.__operators__.add_1 (TFOpLa  (None, None, 256)   0           ['dense_1[0][0]',                \n",
      " mbda)                                                            'dropout_1[0][0]']              \n",
      "                                                                                                  \n",
      " dropout_2 (Dropout)            (None, None, 256)    0           ['tf.__operators__.add_1[0][0]'] \n",
      "                                                                                                  \n",
      " layer_normalization_2 (LayerNo  (None, None, 256)   512         ['dropout_2[0][0]']              \n",
      " rmalization)                                                                                     \n",
      "                                                                                                  \n",
      " multi_head_attention_1 (MultiH  (None, None, 256)   1051904     ['layer_normalization_2[0][0]',  \n",
      " eadAttention)                                                    'layer_normalization_2[0][0]']  \n",
      "                                                                                                  \n",
      " tf.__operators__.add_2 (TFOpLa  (None, None, 256)   0           ['multi_head_attention_1[0][0]', \n",
      " mbda)                                                            'dropout_2[0][0]']              \n",
      "                                                                                                  \n",
      " dropout_3 (Dropout)            (None, None, 256)    0           ['tf.__operators__.add_2[0][0]'] \n",
      "                                                                                                  \n",
      " layer_normalization_3 (LayerNo  (None, None, 256)   512         ['dropout_3[0][0]']              \n",
      " rmalization)                                                                                     \n",
      "                                                                                                  \n",
      " dense_2 (Dense)                (None, None, 256)    65792       ['layer_normalization_3[0][0]']  \n",
      "                                                                                                  \n",
      " dense_3 (Dense)                (None, None, 256)    65792       ['dense_2[0][0]']                \n",
      "                                                                                                  \n",
      " tf.__operators__.add_3 (TFOpLa  (None, None, 256)   0           ['dense_3[0][0]',                \n",
      " mbda)                                                            'dropout_3[0][0]']              \n",
      "                                                                                                  \n",
      " dropout_4 (Dropout)            (None, None, 256)    0           ['tf.__operators__.add_3[0][0]'] \n",
      "                                                                                                  \n",
      " layer_normalization_4 (LayerNo  (None, None, 256)   512         ['dropout_4[0][0]']              \n",
      " rmalization)                                                                                     \n",
      "                                                                                                  \n",
      " multi_head_attention_2 (MultiH  (None, None, 256)   1051904     ['layer_normalization_4[0][0]',  \n",
      " eadAttention)                                                    'layer_normalization_4[0][0]']  \n",
      "                                                                                                  \n",
      " tf.__operators__.add_4 (TFOpLa  (None, None, 256)   0           ['multi_head_attention_2[0][0]', \n",
      " mbda)                                                            'dropout_4[0][0]']              \n",
      "                                                                                                  \n",
      " dropout_5 (Dropout)            (None, None, 256)    0           ['tf.__operators__.add_4[0][0]'] \n",
      "                                                                                                  \n",
      " layer_normalization_5 (LayerNo  (None, None, 256)   512         ['dropout_5[0][0]']              \n",
      " rmalization)                                                                                     \n",
      "                                                                                                  \n",
      " dense_4 (Dense)                (None, None, 256)    65792       ['layer_normalization_5[0][0]']  \n",
      "                                                                                                  \n",
      " dense_5 (Dense)                (None, None, 256)    65792       ['dense_4[0][0]']                \n",
      "                                                                                                  \n",
      " tf.__operators__.add_5 (TFOpLa  (None, None, 256)   0           ['dense_5[0][0]',                \n",
      " mbda)                                                            'dropout_5[0][0]']              \n",
      "                                                                                                  \n",
      " dropout_6 (Dropout)            (None, None, 256)    0           ['tf.__operators__.add_5[0][0]'] \n",
      "                                                                                                  \n",
      " layer_normalization_6 (LayerNo  (None, None, 256)   512         ['dropout_6[0][0]']              \n",
      " rmalization)                                                                                     \n",
      "                                                                                                  \n",
      " multi_head_attention_3 (MultiH  (None, None, 256)   1051904     ['layer_normalization_6[0][0]',  \n",
      " eadAttention)                                                    'layer_normalization_6[0][0]']  \n",
      "                                                                                                  \n",
      " tf.__operators__.add_6 (TFOpLa  (None, None, 256)   0           ['multi_head_attention_3[0][0]', \n",
      " mbda)                                                            'dropout_6[0][0]']              \n",
      "                                                                                                  \n",
      " decoder_input_layer (InputLaye  [(None, None)]      0           []                               \n",
      " r)                                                                                               \n",
      "                                                                                                  \n",
      " dropout_7 (Dropout)            (None, None, 256)    0           ['tf.__operators__.add_6[0][0]'] \n",
      "                                                                                                  \n",
      " positional_embedding_1 (Positi  (None, None, 256)   404992      ['decoder_input_layer[0][0]']    \n",
      " onalEmbedding)                                                                                   \n",
      "                                                                                                  \n",
      " layer_normalization_7 (LayerNo  (None, None, 256)   512         ['dropout_7[0][0]']              \n",
      " rmalization)                                                                                     \n",
      "                                                                                                  \n",
      " multi_head_attention_4 (MultiH  (None, None, 256)   1051904     ['positional_embedding_1[0][0]', \n",
      " eadAttention)                                                    'positional_embedding_1[0][0]'] \n",
      "                                                                                                  \n",
      " dense_6 (Dense)                (None, None, 256)    65792       ['layer_normalization_7[0][0]']  \n",
      "                                                                                                  \n",
      " tf.__operators__.add_8 (TFOpLa  (None, None, 256)   0           ['multi_head_attention_4[0][0]', \n",
      " mbda)                                                            'positional_embedding_1[0][0]'] \n",
      "                                                                                                  \n",
      " dense_7 (Dense)                (None, None, 256)    65792       ['dense_6[0][0]']                \n",
      "                                                                                                  \n",
      " dropout_9 (Dropout)            (None, None, 256)    0           ['tf.__operators__.add_8[0][0]'] \n",
      "                                                                                                  \n",
      " tf.__operators__.add_7 (TFOpLa  (None, None, 256)   0           ['dense_7[0][0]',                \n",
      " mbda)                                                            'dropout_7[0][0]']              \n",
      "                                                                                                  \n",
      " layer_normalization_8 (LayerNo  (None, None, 256)   512         ['dropout_9[0][0]']              \n",
      " rmalization)                                                                                     \n",
      "                                                                                                  \n",
      " dropout_8 (Dropout)            (None, None, 256)    0           ['tf.__operators__.add_7[0][0]'] \n",
      "                                                                                                  \n",
      " multi_head_attention_5 (MultiH  (None, None, 256)   1051904     ['layer_normalization_8[0][0]',  \n",
      " eadAttention)                                                    'dropout_8[0][0]']              \n",
      "                                                                                                  \n",
      " tf.__operators__.add_9 (TFOpLa  (None, None, 256)   0           ['multi_head_attention_5[0][0]', \n",
      " mbda)                                                            'layer_normalization_8[0][0]']  \n",
      "                                                                                                  \n",
      " dropout_10 (Dropout)           (None, None, 256)    0           ['tf.__operators__.add_9[0][0]'] \n",
      "                                                                                                  \n",
      " layer_normalization_9 (LayerNo  (None, None, 256)   512         ['dropout_10[0][0]']             \n",
      " rmalization)                                                                                     \n",
      "                                                                                                  \n",
      " dense_8 (Dense)                (None, None, 256)    65792       ['layer_normalization_9[0][0]']  \n",
      "                                                                                                  \n",
      " dense_9 (Dense)                (None, None, 256)    65792       ['dense_8[0][0]']                \n",
      "                                                                                                  \n",
      " tf.__operators__.add_10 (TFOpL  (None, None, 256)   0           ['dense_9[0][0]',                \n",
      " ambda)                                                           'layer_normalization_9[0][0]']  \n",
      "                                                                                                  \n",
      " dropout_11 (Dropout)           (None, None, 256)    0           ['tf.__operators__.add_10[0][0]']\n",
      "                                                                                                  \n",
      " layer_normalization_10 (LayerN  (None, None, 256)   512         ['dropout_11[0][0]']             \n",
      " ormalization)                                                                                    \n",
      "                                                                                                  \n",
      " dense_10 (Dense)               (None, None, 1547)   397579      ['layer_normalization_10[0][0]'] \n",
      "                                                                                                  \n",
      "==================================================================================================\n",
      "Total params: 8,167,691\n",
      "Trainable params: 8,167,691\n",
      "Non-trainable params: 0\n",
      "__________________________________________________________________________________________________\n"
     ]
    }
   ],
   "source": [
    "transformer_model = Model([encoder_input, decoder_input], outputs, name=\"transformer_model\")\n",
    "transformer_model.summary()"
   ]
  },
  {
   "cell_type": "code",
   "execution_count": 10,
   "metadata": {},
   "outputs": [],
   "source": [
    "optimizer = tf.keras.optimizers.Adam(learning_rate=1e-4, clipnorm=1.0)\n",
    "\n",
    "transformer_model.compile(\n",
    "    optimizer=optimizer,\n",
    "    loss=tf.keras.losses.SparseCategoricalCrossentropy(from_logits=False),\n",
    "    metrics=[\"accuracy\"]\n",
    ")\n"
   ]
  },
  {
   "cell_type": "markdown",
   "metadata": {},
   "source": [
    "## 5) Training the model"
   ]
  },
  {
   "cell_type": "markdown",
   "metadata": {},
   "source": [
    "Before the model can be trained the training set first needs to be created."
   ]
  },
  {
   "cell_type": "code",
   "execution_count": 11,
   "metadata": {},
   "outputs": [],
   "source": [
    "from tensorflow.data import Dataset, AUTOTUNE\n",
    "\n",
    "targets = np.expand_dims(np.array(decoder_target_data), -1)\n",
    "\n",
    "dataset = Dataset.from_tensor_slices((encoder_input_data, decoder_input_data, targets))\n",
    "\n",
    "def format(encoder_input, decoder_input, decoder_target):\n",
    "    return (encoder_input, decoder_input), decoder_target\n",
    "\n",
    "dataset = dataset.map(format).shuffle(1024).batch(64).prefetch(AUTOTUNE)\n",
    "\n",
    "# Split dataset: 80% train, 20% validation (by batches)\n",
    "total_batches = len(dataset)\n",
    "train_size = int(0.8 * total_batches)\n",
    "\n",
    "train_ds = dataset.take(train_size)\n",
    "val_ds = dataset.skip(train_size)\n"
   ]
  },
  {
   "cell_type": "code",
   "execution_count": 12,
   "metadata": {},
   "outputs": [
    {
     "name": "stdout",
     "output_type": "stream",
     "text": [
      "Epoch 1/25\n",
      "1250/1250 [==============================] - 95s 71ms/step - loss: 1.1124 - accuracy: 0.8279 - val_loss: 0.1112 - val_accuracy: 0.9833\n",
      "Epoch 2/25\n",
      "1250/1250 [==============================] - 86s 69ms/step - loss: 0.1062 - accuracy: 0.9872 - val_loss: 0.0208 - val_accuracy: 0.9971\n",
      "Epoch 3/25\n",
      "1250/1250 [==============================] - 86s 69ms/step - loss: 0.0300 - accuracy: 0.9969 - val_loss: 0.0089 - val_accuracy: 0.9986\n",
      "Epoch 4/25\n",
      "1250/1250 [==============================] - 86s 69ms/step - loss: 0.0135 - accuracy: 0.9985 - val_loss: 0.0050 - val_accuracy: 0.9992\n",
      "Epoch 5/25\n",
      "1250/1250 [==============================] - 87s 69ms/step - loss: 0.0075 - accuracy: 0.9991 - val_loss: 0.0034 - val_accuracy: 0.9994\n",
      "Epoch 6/25\n",
      "1250/1250 [==============================] - 87s 70ms/step - loss: 0.0048 - accuracy: 0.9994 - val_loss: 0.0021 - val_accuracy: 0.9996\n",
      "Epoch 7/25\n",
      "1250/1250 [==============================] - 87s 69ms/step - loss: 0.0030 - accuracy: 0.9996 - val_loss: 0.0014 - val_accuracy: 0.9997\n",
      "Epoch 8/25\n",
      "1250/1250 [==============================] - 87s 70ms/step - loss: 0.0022 - accuracy: 0.9997 - val_loss: 8.5041e-04 - val_accuracy: 0.9998\n",
      "Epoch 9/25\n",
      "1250/1250 [==============================] - 87s 70ms/step - loss: 0.0015 - accuracy: 0.9998 - val_loss: 5.5514e-04 - val_accuracy: 0.9999\n",
      "Epoch 10/25\n",
      "1250/1250 [==============================] - 87s 70ms/step - loss: 0.0010 - accuracy: 0.9998 - val_loss: 3.8745e-04 - val_accuracy: 0.9999\n",
      "Epoch 11/25\n",
      "1250/1250 [==============================] - 87s 70ms/step - loss: 7.5492e-04 - accuracy: 0.9999 - val_loss: 2.6385e-04 - val_accuracy: 1.0000\n",
      "Epoch 12/25\n",
      "1250/1250 [==============================] - 87s 70ms/step - loss: 6.2239e-04 - accuracy: 0.9999 - val_loss: 1.5622e-04 - val_accuracy: 1.0000\n",
      "Epoch 13/25\n",
      "1250/1250 [==============================] - 87s 70ms/step - loss: 4.6007e-04 - accuracy: 0.9999 - val_loss: 1.5417e-04 - val_accuracy: 1.0000\n",
      "Epoch 14/25\n",
      "1250/1250 [==============================] - 87s 70ms/step - loss: 4.0252e-04 - accuracy: 0.9999 - val_loss: 1.8521e-04 - val_accuracy: 1.0000\n",
      "Epoch 15/25\n",
      "1250/1250 [==============================] - 88s 70ms/step - loss: 2.7418e-04 - accuracy: 1.0000 - val_loss: 7.3121e-05 - val_accuracy: 1.0000\n",
      "Epoch 16/25\n",
      "1250/1250 [==============================] - 87s 70ms/step - loss: 2.8537e-04 - accuracy: 1.0000 - val_loss: 9.5974e-05 - val_accuracy: 1.0000\n",
      "Epoch 17/25\n",
      "1250/1250 [==============================] - 88s 71ms/step - loss: 2.8930e-04 - accuracy: 1.0000 - val_loss: 6.0053e-05 - val_accuracy: 1.0000\n",
      "Epoch 18/25\n",
      "1250/1250 [==============================] - 88s 70ms/step - loss: 2.1873e-04 - accuracy: 1.0000 - val_loss: 1.2235e-05 - val_accuracy: 1.0000\n",
      "Epoch 19/25\n",
      "1250/1250 [==============================] - 88s 70ms/step - loss: 2.4101e-04 - accuracy: 1.0000 - val_loss: 1.1259e-05 - val_accuracy: 1.0000\n",
      "Epoch 20/25\n",
      "1250/1250 [==============================] - 88s 71ms/step - loss: 1.1459e-04 - accuracy: 1.0000 - val_loss: 1.7488e-05 - val_accuracy: 1.0000\n",
      "Epoch 21/25\n",
      "1250/1250 [==============================] - 88s 70ms/step - loss: 1.1267e-04 - accuracy: 1.0000 - val_loss: 1.0408e-05 - val_accuracy: 1.0000\n",
      "Epoch 22/25\n",
      "1250/1250 [==============================] - 88s 70ms/step - loss: 1.9594e-04 - accuracy: 1.0000 - val_loss: 5.1022e-06 - val_accuracy: 1.0000\n",
      "Epoch 23/25\n",
      "1250/1250 [==============================] - 87s 69ms/step - loss: 9.4813e-05 - accuracy: 1.0000 - val_loss: 1.6293e-05 - val_accuracy: 1.0000\n",
      "Epoch 24/25\n",
      "1250/1250 [==============================] - 87s 69ms/step - loss: 1.3852e-04 - accuracy: 1.0000 - val_loss: 8.6746e-05 - val_accuracy: 1.0000\n",
      "Epoch 25/25\n",
      "1250/1250 [==============================] - 86s 69ms/step - loss: 1.1729e-04 - accuracy: 1.0000 - val_loss: 7.1784e-06 - val_accuracy: 1.0000\n"
     ]
    }
   ],
   "source": [
    "from tensorflow.keras.callbacks import EarlyStopping\n",
    "\n",
    "callbacks = [\n",
    "    EarlyStopping(monitor='val_loss', patience=4, restore_best_weights=True, verbose=1)\n",
    "]\n",
    "\n",
    "history = transformer_model.fit(\n",
    "    train_ds,\n",
    "    validation_data=val_ds,\n",
    "    epochs=25,\n",
    "    callbacks=callbacks\n",
    ")\n",
    "\n"
   ]
  },
  {
   "cell_type": "code",
   "execution_count": 13,
   "metadata": {},
   "outputs": [
    {
     "data": {
      "image/png": "[encoded data removed]",
      "text/plain": [
       "<Figure size 1000x400 with 2 Axes>"
      ]
     },
     "metadata": {},
     "output_type": "display_data"
    }
   ],
   "source": [
    "import matplotlib.pyplot as plt\n",
    "\n",
    "plt.figure(figsize=(10,4))\n",
    "plt.subplot(1,2,1)\n",
    "plt.plot(history.history['accuracy'], label='Train')\n",
    "plt.plot(history.history['val_accuracy'], label='Val')\n",
    "plt.title(\"Accuracy\"); plt.legend()\n",
    "\n",
    "plt.subplot(1,2,2)\n",
    "plt.plot(history.history['loss'], label='Train')\n",
    "plt.plot(history.history['val_loss'], label='Val')\n",
    "plt.title(\"Loss\"); plt.legend()\n",
    "plt.tight_layout()\n",
    "plt.show()"
   ]
  },
  {
   "cell_type": "markdown",
   "metadata": {},
   "source": [
    "Note: Despite training, the Transformer seems to have underfit. This might be due to insufficient data, lack of regularization, or inadequate training steps."
   ]
  },
  {
   "cell_type": "markdown",
   "metadata": {},
   "source": [
    "## 6) Translating a sentence"
   ]
  },
  {
   "cell_type": "code",
   "execution_count": 14,
   "metadata": {},
   "outputs": [],
   "source": [
    "from typing import Tuple\n",
    "\n",
    "word_index = dict(enumerate(dut_vectorizer.get_vocabulary()))  # same thing but okay\n",
    "\n",
    "\n",
    "\n",
    "def translate(sentence: str) -> str:\n",
    "    sentence = preprocess_input_sentence(sentence)\n",
    "    input_sequence = eng_vectorizer([sentence])\n",
    "\n",
    "    start_token_id = dut_vectorizer(\"<start>\").numpy()[0]\n",
    "    end_token_id = dut_vectorizer(\"<end>\").numpy()[0]\n",
    "\n",
    "    decoder_input = tf.expand_dims([start_token_id], 0)\n",
    "\n",
    "    translated_tokens = []\n",
    "\n",
    "    def get_highest_prediction(predictions: Tuple) -> int:\n",
    "        # predictions = (batch, time, vocab_size)\n",
    "        return np.argmax(predictions[0, -1, :])\n",
    "    \n",
    "    def get_translated_word(word_id: int) -> str:\n",
    "        return word_index.get(word_id, \"?\")\n",
    "\n",
    "\n",
    "    for _ in range(MAX_SEQUENCE_LENGTH):\n",
    "        predictions = transformer_model.predict([input_sequence, decoder_input], verbose=0)\n",
    "\n",
    "        next_word_id = get_highest_prediction(predictions)\n",
    "\n",
    "        # Check if the next word is the <end> token if so stop translation.\n",
    "        if next_word_id == end_token_id:\n",
    "            break;\n",
    "        \n",
    "        next_word = get_translated_word(next_word_id)\n",
    "\n",
    "        translated_tokens.append(next_word)\n",
    "        decoder_input = tf.concat([decoder_input, [[next_word_id]]], axis=-1)\n",
    "\n",
    "    return \" \".join(translated_tokens).capitalize() + \".\"\n",
    "\n"
   ]
  },
  {
   "cell_type": "markdown",
   "metadata": {},
   "source": [
    "## 7) Analysis of Model Performance"
   ]
  },
  {
   "cell_type": "markdown",
   "metadata": {},
   "source": [
    "### Common Issues Observed:\n",
    "1. **Token Repetition**\n",
    "   - The RNN model shows the same word patterns\n",
    "   - This likely means the model is getting stuck in certain patterns\n",
    "   - Likely due to the lack of attention mechanism\n",
    "\n",
    "2. **Grammar and Structure**\n",
    "   - The model doesn't maintain proper Dutch sentence structure\n",
    "   - Word order is often incorrect\n",
    "   - Missing or incorrect articles and prepositions\n",
    "\n",
    "3. **Meaning Preservation**\n",
    "   - Translations often lose the original meaning\n",
    "   - The model generates plausible Dutch words but in incorrect contexts\n",
    "   - This indicates the model hasn't learned the semantic relationships well\n",
    "\n",
    "### Potential Causes:\n",
    "1. **Training Data Issues**\n",
    "   - Limited training data (50,000 samples)\n",
    "   - Possible data quality issues in preprocessing\n",
    "   - Imbalanced distribution of sentence lengths\n",
    "\n",
    "2. **Model Architecture**\n",
    "   - Lack of attention mechanism\n",
    "   - Single LSTM layer might not be sufficient\n",
    "   - Embedding dimensions might need adjustment\n",
    "\n",
    "3. **Training Process**\n",
    "   - Learning rate might need tuning\n",
    "   - Training might need more epochs\n",
    "   - Early stopping might be too aggressive\n",
    "\n",
    "### What i would improve next:\n",
    "1. **Data**\n",
    "   - Improve preprocessing\n",
    "   - Balance sentence length distribution\n",
    "\n",
    "2. **Model Architecture**\n",
    "   - Add attention mechanism\n",
    "   - Increase LSTM layers\n",
    "   - Adjust embedding dimensions\n",
    "\n",
    "3. **Training**\n",
    "   - Increase training epochs\n",
    "   - Add validation metrics"
   ]
  },
  {
   "cell_type": "code",
   "execution_count": 15,
   "metadata": {},
   "outputs": [
    {
     "name": "stderr",
     "output_type": "stream",
     "text": [
      "[nltk_data] Downloading package punkt to\n",
      "[nltk_data]     C:\\Users\\david\\AppData\\Roaming\\nltk_data...\n",
      "[nltk_data]   Package punkt is already up-to-date!\n"
     ]
    }
   ],
   "source": [
    "from nltk.translate.bleu_score import sentence_bleu, SmoothingFunction\n",
    "import nltk\n",
    "nltk.download('punkt')\n",
    "\n",
    "def calculate_bleu(reference, hypothesis):\n",
    "    smoothie = SmoothingFunction().method1\n",
    "    return sentence_bleu([reference.split()], hypothesis.split(), smoothing_function=smoothie)"
   ]
  },
  {
   "cell_type": "code",
   "execution_count": 16,
   "metadata": {},
   "outputs": [
    {
     "name": "stdout",
     "output_type": "stream",
     "text": [
      "Average BLEU Score: 0.0000\n",
      "\n",
      "Detailed Results:\n",
      "\n",
      "1. Hello, how are you?\n",
      "   Expected: Hallo, hoe gaat het met je?\n",
      "   Transformer: Maar maar maar maar maar maar maar maar maar maar maar maar maar maar maar maar maar maar maar maar maar maar maar maar maar maar maar maar maar maar maar maar maar maar maar.\n",
      "   BLEU Score: 0.0000\n",
      "\n",
      "2. This is my house.\n",
      "   Expected: Dit is mijn huis.\n",
      "   Transformer: Maar maar maar maar maar maar maar maar maar maar maar maar maar maar maar maar maar maar maar maar maar maar maar maar maar maar maar maar maar maar maar maar maar maar maar.\n",
      "   BLEU Score: 0.0000\n",
      "\n",
      "3. Thank you for the help.\n",
      "   Expected: Bedankt voor de hulp.\n",
      "   Transformer: Maar maar maar maar maar maar maar maar maar maar maar maar maar maar maar maar maar maar maar maar maar maar maar maar maar maar maar maar maar maar maar maar maar maar maar.\n",
      "   BLEU Score: 0.0000\n",
      "\n",
      "4. We are going to the beach.\n",
      "   Expected: We gaan naar het strand.\n",
      "   Transformer: Maar maar maar maar maar maar maar maar maar maar maar maar maar maar maar maar maar maar maar maar maar maar maar maar maar maar maar maar maar maar maar maar maar maar maar.\n",
      "   BLEU Score: 0.0000\n",
      "\n",
      "5. I like to read books.\n",
      "   Expected: Ik lees graag boeken.\n",
      "   Transformer: Maar maar maar maar maar maar maar maar maar maar maar maar maar maar maar maar maar maar maar maar maar maar maar maar maar maar maar maar maar maar maar maar maar maar maar.\n",
      "   BLEU Score: 0.0000\n"
     ]
    }
   ],
   "source": [
    "test_pairs = [\n",
    "    (\"Hello, how are you?\", \"Hallo, hoe gaat het met je?\"),\n",
    "    (\"This is my house.\", \"Dit is mijn huis.\"),\n",
    "    (\"Thank you for the help.\", \"Bedankt voor de hulp.\"),\n",
    "    (\"We are going to the beach.\", \"We gaan naar het strand.\"),\n",
    "    (\"I like to read books.\", \"Ik lees graag boeken.\")\n",
    "]\n",
    "\n",
    "transformer_scores = []\n",
    "for eng, dutch in test_pairs:\n",
    "    transformer_translation = translate(eng)  # Using our existing translate function\n",
    "    transformer_scores.append(calculate_bleu(dutch, transformer_translation))\n",
    "\n",
    "print(f\"Average BLEU Score: {sum(transformer_scores)/len(transformer_scores):.4f}\")\n",
    "\n",
    "print(\"\\nDetailed Results:\")\n",
    "for i, (eng, dutch) in enumerate(test_pairs):\n",
    "    print(f\"\\n{i+1}. {eng}\")\n",
    "    print(f\"   Expected: {dutch}\")\n",
    "    print(f\"   Transformer: {translate(eng)}\")\n",
    "    print(f\"   BLEU Score: {transformer_scores[i]:.4f}\")"
   ]
  }
 ],
 "metadata": {
  "kernelspec": {
   "display_name": "assignment_3_-_text_translator-DEgrxmxA-py3.10",
   "language": "python",
   "name": "python3"
  },
  "language_info": {
   "codemirror_mode": {
    "name": "ipython",
    "version": 3
   },
   "file_extension": ".py",
   "mimetype": "text/x-python",
   "name": "python",
   "nbconvert_exporter": "python",
   "pygments_lexer": "ipython3",
   "version": "3.10.11"
  }
 },
 "nbformat": 4,
 "nbformat_minor": 2
}
