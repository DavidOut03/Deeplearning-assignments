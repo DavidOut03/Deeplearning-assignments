{
 "cells": [
  {
   "cell_type": "markdown",
   "metadata": {},
   "source": [
    "## Importy types"
   ]
  },
  {
   "cell_type": "code",
   "execution_count": 127,
   "metadata": {},
   "outputs": [],
   "source": [
    "import pandas as pd\n",
    "import matplotlib.pyplot as plt\n",
    "import math \n",
    "import random as rd\n",
    "\n",
    "from sklearn.model_selection import train_test_split\n",
    "from sklearn.preprocessing import StandardScaler"
   ]
  },
  {
   "cell_type": "markdown",
   "metadata": {},
   "source": [
    "## Training & Test set"
   ]
  },
  {
   "cell_type": "markdown",
   "metadata": {},
   "source": [
    "First load the data set and the dependend and independend variables"
   ]
  },
  {
   "cell_type": "code",
   "execution_count": 128,
   "metadata": {},
   "outputs": [
    {
     "data": {
      "text/html": [
       "<div>\n",
       "<style scoped>\n",
       "    .dataframe tbody tr th:only-of-type {\n",
       "        vertical-align: middle;\n",
       "    }\n",
       "\n",
       "    .dataframe tbody tr th {\n",
       "        vertical-align: top;\n",
       "    }\n",
       "\n",
       "    .dataframe thead th {\n",
       "        text-align: right;\n",
       "    }\n",
       "</style>\n",
       "<table border=\"1\" class=\"dataframe\">\n",
       "  <thead>\n",
       "    <tr style=\"text-align: right;\">\n",
       "      <th></th>\n",
       "      <th>species</th>\n",
       "      <th>sex</th>\n",
       "      <th>bill_length_mm</th>\n",
       "      <th>body_mass_g</th>\n",
       "    </tr>\n",
       "  </thead>\n",
       "  <tbody>\n",
       "    <tr>\n",
       "      <th>0</th>\n",
       "      <td>Adelie</td>\n",
       "      <td>male</td>\n",
       "      <td>39.1</td>\n",
       "      <td>3750.0</td>\n",
       "    </tr>\n",
       "    <tr>\n",
       "      <th>1</th>\n",
       "      <td>Adelie</td>\n",
       "      <td>female</td>\n",
       "      <td>39.5</td>\n",
       "      <td>3800.0</td>\n",
       "    </tr>\n",
       "    <tr>\n",
       "      <th>2</th>\n",
       "      <td>Adelie</td>\n",
       "      <td>female</td>\n",
       "      <td>40.3</td>\n",
       "      <td>3250.0</td>\n",
       "    </tr>\n",
       "    <tr>\n",
       "      <th>4</th>\n",
       "      <td>Adelie</td>\n",
       "      <td>female</td>\n",
       "      <td>36.7</td>\n",
       "      <td>3450.0</td>\n",
       "    </tr>\n",
       "    <tr>\n",
       "      <th>5</th>\n",
       "      <td>Adelie</td>\n",
       "      <td>male</td>\n",
       "      <td>39.3</td>\n",
       "      <td>3650.0</td>\n",
       "    </tr>\n",
       "    <tr>\n",
       "      <th>...</th>\n",
       "      <td>...</td>\n",
       "      <td>...</td>\n",
       "      <td>...</td>\n",
       "      <td>...</td>\n",
       "    </tr>\n",
       "    <tr>\n",
       "      <th>339</th>\n",
       "      <td>Chinstrap</td>\n",
       "      <td>male</td>\n",
       "      <td>55.8</td>\n",
       "      <td>4000.0</td>\n",
       "    </tr>\n",
       "    <tr>\n",
       "      <th>340</th>\n",
       "      <td>Chinstrap</td>\n",
       "      <td>female</td>\n",
       "      <td>43.5</td>\n",
       "      <td>3400.0</td>\n",
       "    </tr>\n",
       "    <tr>\n",
       "      <th>341</th>\n",
       "      <td>Chinstrap</td>\n",
       "      <td>male</td>\n",
       "      <td>49.6</td>\n",
       "      <td>3775.0</td>\n",
       "    </tr>\n",
       "    <tr>\n",
       "      <th>342</th>\n",
       "      <td>Chinstrap</td>\n",
       "      <td>male</td>\n",
       "      <td>50.8</td>\n",
       "      <td>4100.0</td>\n",
       "    </tr>\n",
       "    <tr>\n",
       "      <th>343</th>\n",
       "      <td>Chinstrap</td>\n",
       "      <td>female</td>\n",
       "      <td>50.2</td>\n",
       "      <td>3775.0</td>\n",
       "    </tr>\n",
       "  </tbody>\n",
       "</table>\n",
       "<p>333 rows × 4 columns</p>\n",
       "</div>"
      ],
      "text/plain": [
       "       species     sex  bill_length_mm  body_mass_g\n",
       "0       Adelie    male            39.1       3750.0\n",
       "1       Adelie  female            39.5       3800.0\n",
       "2       Adelie  female            40.3       3250.0\n",
       "4       Adelie  female            36.7       3450.0\n",
       "5       Adelie    male            39.3       3650.0\n",
       "..         ...     ...             ...          ...\n",
       "339  Chinstrap    male            55.8       4000.0\n",
       "340  Chinstrap  female            43.5       3400.0\n",
       "341  Chinstrap    male            49.6       3775.0\n",
       "342  Chinstrap    male            50.8       4100.0\n",
       "343  Chinstrap  female            50.2       3775.0\n",
       "\n",
       "[333 rows x 4 columns]"
      ]
     },
     "execution_count": 128,
     "metadata": {},
     "output_type": "execute_result"
    }
   ],
   "source": [
    "csv_file = './data/palmerpenguins_original.csv'\n",
    "data = pd.read_csv(csv_file)\n",
    "\n",
    "df = data.loc[:, ['species', 'sex', 'bill_length_mm', 'body_mass_g']]\n",
    "df = df.dropna()\n",
    "df"
   ]
  },
  {
   "cell_type": "markdown",
   "metadata": {},
   "source": [
    "Regular strings are not processable by the neural network. So instead i give every species a category and instead of sex i create the boolean is_male.\n",
    "\n",
    "And normalize the values so the correct values get predicted."
   ]
  },
  {
   "cell_type": "code",
   "execution_count": 129,
   "metadata": {},
   "outputs": [
    {
     "data": {
      "text/html": [
       "<div>\n",
       "<style scoped>\n",
       "    .dataframe tbody tr th:only-of-type {\n",
       "        vertical-align: middle;\n",
       "    }\n",
       "\n",
       "    .dataframe tbody tr th {\n",
       "        vertical-align: top;\n",
       "    }\n",
       "\n",
       "    .dataframe thead th {\n",
       "        text-align: right;\n",
       "    }\n",
       "</style>\n",
       "<table border=\"1\" class=\"dataframe\">\n",
       "  <thead>\n",
       "    <tr style=\"text-align: right;\">\n",
       "      <th></th>\n",
       "      <th>bill_length_mm</th>\n",
       "      <th>body_mass_g</th>\n",
       "      <th>species_category</th>\n",
       "      <th>is_male</th>\n",
       "    </tr>\n",
       "  </thead>\n",
       "  <tbody>\n",
       "    <tr>\n",
       "      <th>0</th>\n",
       "      <td>39.1</td>\n",
       "      <td>3750.0</td>\n",
       "      <td>0</td>\n",
       "      <td>1</td>\n",
       "    </tr>\n",
       "    <tr>\n",
       "      <th>1</th>\n",
       "      <td>39.5</td>\n",
       "      <td>3800.0</td>\n",
       "      <td>0</td>\n",
       "      <td>0</td>\n",
       "    </tr>\n",
       "    <tr>\n",
       "      <th>2</th>\n",
       "      <td>40.3</td>\n",
       "      <td>3250.0</td>\n",
       "      <td>0</td>\n",
       "      <td>0</td>\n",
       "    </tr>\n",
       "    <tr>\n",
       "      <th>4</th>\n",
       "      <td>36.7</td>\n",
       "      <td>3450.0</td>\n",
       "      <td>0</td>\n",
       "      <td>0</td>\n",
       "    </tr>\n",
       "    <tr>\n",
       "      <th>5</th>\n",
       "      <td>39.3</td>\n",
       "      <td>3650.0</td>\n",
       "      <td>0</td>\n",
       "      <td>1</td>\n",
       "    </tr>\n",
       "    <tr>\n",
       "      <th>...</th>\n",
       "      <td>...</td>\n",
       "      <td>...</td>\n",
       "      <td>...</td>\n",
       "      <td>...</td>\n",
       "    </tr>\n",
       "    <tr>\n",
       "      <th>339</th>\n",
       "      <td>55.8</td>\n",
       "      <td>4000.0</td>\n",
       "      <td>2</td>\n",
       "      <td>1</td>\n",
       "    </tr>\n",
       "    <tr>\n",
       "      <th>340</th>\n",
       "      <td>43.5</td>\n",
       "      <td>3400.0</td>\n",
       "      <td>2</td>\n",
       "      <td>0</td>\n",
       "    </tr>\n",
       "    <tr>\n",
       "      <th>341</th>\n",
       "      <td>49.6</td>\n",
       "      <td>3775.0</td>\n",
       "      <td>2</td>\n",
       "      <td>1</td>\n",
       "    </tr>\n",
       "    <tr>\n",
       "      <th>342</th>\n",
       "      <td>50.8</td>\n",
       "      <td>4100.0</td>\n",
       "      <td>2</td>\n",
       "      <td>1</td>\n",
       "    </tr>\n",
       "    <tr>\n",
       "      <th>343</th>\n",
       "      <td>50.2</td>\n",
       "      <td>3775.0</td>\n",
       "      <td>2</td>\n",
       "      <td>0</td>\n",
       "    </tr>\n",
       "  </tbody>\n",
       "</table>\n",
       "<p>333 rows × 4 columns</p>\n",
       "</div>"
      ],
      "text/plain": [
       "     bill_length_mm  body_mass_g  species_category  is_male\n",
       "0              39.1       3750.0                 0        1\n",
       "1              39.5       3800.0                 0        0\n",
       "2              40.3       3250.0                 0        0\n",
       "4              36.7       3450.0                 0        0\n",
       "5              39.3       3650.0                 0        1\n",
       "..              ...          ...               ...      ...\n",
       "339            55.8       4000.0                 2        1\n",
       "340            43.5       3400.0                 2        0\n",
       "341            49.6       3775.0                 2        1\n",
       "342            50.8       4100.0                 2        1\n",
       "343            50.2       3775.0                 2        0\n",
       "\n",
       "[333 rows x 4 columns]"
      ]
     },
     "execution_count": 129,
     "metadata": {},
     "output_type": "execute_result"
    }
   ],
   "source": [
    "def get_specimen_index(sp: str) -> int:\n",
    "    species = df['species'].unique()\n",
    "    for i in range(len(species)):\n",
    "        if species[i].lower() == sp.lower():\n",
    "            return i\n",
    "    return 0\n",
    "\n",
    "dataset = df\n",
    "dataset['species_category'] = [get_specimen_index(sp) for sp in df['species']]\n",
    "dataset['is_male'] = [1 if sex == 'male' else 0 for sex in df['sex']]\n",
    "dataset = dataset.drop(columns=['species', 'sex'])\n",
    "\n",
    "dataset\n"
   ]
  },
  {
   "cell_type": "code",
   "execution_count": 130,
   "metadata": {},
   "outputs": [],
   "source": [
    "X = dataset.loc[:, ['bill_length_mm', 'is_male', 'species_category']]\n",
    "Y = dataset['body_mass_g']"
   ]
  },
  {
   "cell_type": "code",
   "execution_count": 131,
   "metadata": {},
   "outputs": [],
   "source": [
    "X_scaler = StandardScaler()\n",
    "X_scaled = X_scaler.fit_transform(X)"
   ]
  },
  {
   "cell_type": "markdown",
   "metadata": {},
   "source": [
    "For the training process i split the dataset in a training and test set so i than later can benchmark the perceptron.\n",
    "\n",
    "Test set 20%\n",
    "Train set & Validation set 80%"
   ]
  },
  {
   "cell_type": "code",
   "execution_count": 132,
   "metadata": {},
   "outputs": [],
   "source": [
    "x_train, x_test, y_train, y_test = train_test_split(X, Y, test_size=0.2)\n",
    "x_train, x_val, y_train, y_val = train_test_split(x_train, y_train, test_size=0.1)"
   ]
  },
  {
   "cell_type": "markdown",
   "metadata": {},
   "source": [
    "#### Write an activation function. Choose between Sigmoid, ReLu or Swish. Explain in the final report why this one."
   ]
  },
  {
   "cell_type": "markdown",
   "metadata": {},
   "source": [
    "For the Perceptron I chose the ReLU activation function because:\n",
    "\n",
    "-   Lower computational cost\n",
    "-\tSimple derivative (1 when input > 0, 0 otherwise)\n",
    "-\tPrevents negative outputs (Negative penguin weights)\n",
    "\n",
    "I also read that sigmoid is mostly used for classification, and the Swish activation function will only really make a difference in a more complex network.\n"
   ]
  },
  {
   "cell_type": "code",
   "execution_count": 133,
   "metadata": {},
   "outputs": [],
   "source": [
    "def relu_activation_function(x):\n",
    "    return max(0, x) \n",
    "\n",
    "def relu_activation_function_derivative(x):\n",
    "    return 1 if x > 0 else 0"
   ]
  },
  {
   "cell_type": "markdown",
   "metadata": {},
   "source": [
    "#### Write a loss function. Choose either Square Loss, Absolute Loss or Huber Loss. Explain in the final report why you chose this one."
   ]
  },
  {
   "cell_type": "markdown",
   "metadata": {},
   "source": [
    "For the perceptron I chose the Squared loss function because:\n",
    "-\tSquared loss penalizes larger errors more than small ones, accelerating the training process\n",
    "-\tIt is simple to differentiate\n",
    "-\tThis makes the function faster, more efficient, and simpler to implement and understand\n"
   ]
  },
  {
   "cell_type": "code",
   "execution_count": 134,
   "metadata": {},
   "outputs": [],
   "source": [
    "def squared_loss(target: float, predicted: float):\n",
    "    return (target - predicted) ** 2\n",
    "\n",
    "def squared_loss_derivative(target: float, predicted: float):\n",
    "    return -2 * (target - predicted)"
   ]
  },
  {
   "cell_type": "markdown",
   "metadata": {},
   "source": [
    "#### Create a function which sets the initial weights of the network. This means the input of the function is the network itself, the output the same network but now with the weights being set to an initial value. Initialize all weights with a random value"
   ]
  },
  {
   "cell_type": "code",
   "execution_count": 135,
   "metadata": {},
   "outputs": [],
   "source": [
    "class Perceptron:\n",
    "\n",
    "    def fit(self, X, Y, learning_rate=0.0001, epochs=100, x_val=None, y_val=None):\n",
    "        \"\"\"\n",
    "        Train the perceptron model on the given data.\n",
    "        \"\"\"\n",
    "    \n",
    "        losses = {\n",
    "            \"train\": {\"mse\": []},\n",
    "            \"validation\": {\"mse\": []}\n",
    "        }\n",
    "        \n",
    "        for epoch in range(epochs):\n",
    "            train_metrics = self._train_epoch(X, Y, learning_rate)\n",
    "\n",
    "            losses[\"train\"][\"mse\"].append(train_metrics[\"mse\"])\n",
    "            \n",
    "            # Run validation if data is provided\n",
    "            val_msg = \"\"\n",
    "            if x_val is not None and y_val is not None:\n",
    "                val_metrics = self._validate(x_val, y_val)\n",
    "                \n",
    "                # Store validation metrics\n",
    "                losses[\"validation\"][\"mse\"].append(val_metrics[\"mse\"])\n",
    "                \n",
    "                val_msg = f\", Val MSE = {float(val_metrics['mse']):.2f}\"\n",
    "            else:\n",
    "                losses[\"validation\"][\"mse\"].append(None)\n",
    "    \n",
    "            print(f\"Epoch {epoch}: Train MSE = {float(train_metrics['mse']):.2f}{val_msg}\")\n",
    "\n",
    "        return losses\n",
    "    \n",
    "    def _train_epoch(self, X, Y, learning_rate):\n",
    "        \"\"\"Train for a single epoch and return metrics.\"\"\"\n",
    "        predictions = []\n",
    "        total_loss = 0\n",
    "\n",
    "        for i, row in X.iterrows():\n",
    "            x1, x2, x3 = row\n",
    "            y = Y[i]\n",
    "\n",
    "            ypred = self.predict(x1, x2, x3)\n",
    "            predictions.append(ypred)\n",
    "\n",
    "            loss = squared_loss(y, ypred)\n",
    "            total_loss += loss\n",
    "\n",
    "            self._update_weights(x1, x2, x3, y, ypred, learning_rate)\n",
    "\n",
    "        mse = total_loss / len(X)\n",
    "        \n",
    "        return {\n",
    "            \"mse\": mse,\n",
    "            \"predictions\": predictions\n",
    "        }\n",
    "    \n",
    "    def _update_weights(self, x1, x2, x3, target, prediction, learning_rate):\n",
    "        \"\"\"Update the model weights based on prediction error.\"\"\"\n",
    "        # Calculate the weighted sum (input to ReLU)\n",
    "        weighted_sum = x1 * self.w1 + x2 * self.w2 + x3 * self.w3 + self.bias\n",
    "        \n",
    "        # Derivative of ReLU: 1 if weighted_sum > 0, else 0\n",
    "        # Gradient of squared error: -2 * (target - prediction)\n",
    "        \n",
    "        # Combined gradient (chain rule)\n",
    "        # Gradient = f'error(f act(sum)) * f'act(sum)\n",
    "        gradient = squared_loss_derivative(target, prediction) * relu_activation_function_derivative(weighted_sum)\n",
    "\n",
    "        self.w1 -= learning_rate * gradient * x1\n",
    "        self.w2 -= learning_rate * gradient * x2\n",
    "        self.w3 -= learning_rate * gradient * x3\n",
    "        self.bias -= learning_rate * gradient\n",
    "    \n",
    "    def _validate(self, X, Y):\n",
    "        \"\"\"Validate the model and return metrics.\"\"\"\n",
    "        predictions = []\n",
    "        total_loss = 0\n",
    "\n",
    "        for i, row in X.iterrows():\n",
    "            x1, x2, x3 = row\n",
    "            y = Y[i]\n",
    "\n",
    "            ypred = self.predict(x1, x2, x3)\n",
    "            predictions.append(ypred)\n",
    "\n",
    "            total_loss += squared_loss(y, ypred)\n",
    "\n",
    "        mse = total_loss / len(X)\n",
    "        \n",
    "        return {\n",
    "            \"mse\": mse,\n",
    "            \"predictions\": predictions\n",
    "        }\n",
    "    \n",
    "    def predict(self, x1, x2, x3):\n",
    "        \"\"\"Predict the output for given inputs.\"\"\"\n",
    "        weighted_sum = x1 * self.w1 + x2 * self.w2 + x3 * self.w3 + self.bias\n",
    "        return relu_activation_function(weighted_sum)\n",
    "    \n",
    "    def evaluate(self, X, Y):\n",
    "        \"\"\"Evaluate model on test data and return metrics.\"\"\"\n",
    "        return self._validate(X, Y)"
   ]
  },
  {
   "cell_type": "code",
   "execution_count": 136,
   "metadata": {},
   "outputs": [],
   "source": [
    "def initialize_network(nn: Perceptron) -> Perceptron:    \n",
    "    nn.w1 = rd.random()\n",
    "    nn.w2 = rd.random()\n",
    "    nn.w3 = rd.random()\n",
    "    nn.bias = rd.random()\n",
    "\n",
    "    return nn"
   ]
  },
  {
   "cell_type": "markdown",
   "metadata": {},
   "source": [
    "# Initialize network"
   ]
  },
  {
   "cell_type": "markdown",
   "metadata": {},
   "source": [
    "## Train perceptron"
   ]
  },
  {
   "cell_type": "markdown",
   "metadata": {},
   "source": [
    "I searched up an what an ideal learning rate would be and i found out on multiple websites that the learning rate is mostly 0.001 to 0.1.\n",
    "For the epochs i just picked an random number."
   ]
  },
  {
   "cell_type": "code",
   "execution_count": 137,
   "metadata": {},
   "outputs": [
    {
     "name": "stdout",
     "output_type": "stream",
     "text": [
      "Epoch 0: Train MSE = 597669.13, Val MSE = 799329.17\n",
      "Epoch 1: Train MSE = 509400.67, Val MSE = 789870.85\n",
      "Epoch 2: Train MSE = 505883.08, Val MSE = 780726.80\n",
      "Epoch 3: Train MSE = 502518.85, Val MSE = 771885.36\n",
      "Epoch 4: Train MSE = 499301.23, Val MSE = 763335.32\n",
      "Epoch 5: Train MSE = 496223.77, Val MSE = 755065.92\n",
      "Epoch 6: Train MSE = 493280.33, Val MSE = 747066.84\n",
      "Epoch 7: Train MSE = 490465.00, Val MSE = 739328.18\n",
      "Epoch 8: Train MSE = 487772.17, Val MSE = 731840.42\n",
      "Epoch 9: Train MSE = 485196.44, Val MSE = 724594.42\n",
      "Epoch 10: Train MSE = 482732.69, Val MSE = 717581.42\n",
      "Epoch 11: Train MSE = 480375.98, Val MSE = 710792.99\n",
      "Epoch 12: Train MSE = 478121.63, Val MSE = 704221.04\n",
      "Epoch 13: Train MSE = 475965.14, Val MSE = 697857.81\n",
      "Epoch 14: Train MSE = 473902.20, Val MSE = 691695.82\n",
      "Epoch 15: Train MSE = 471928.73, Val MSE = 685727.91\n",
      "Epoch 16: Train MSE = 470040.78, Val MSE = 679947.18\n",
      "Epoch 17: Train MSE = 468234.62, Val MSE = 674347.02\n",
      "Epoch 18: Train MSE = 466506.65, Val MSE = 668921.06\n",
      "Epoch 19: Train MSE = 464853.43, Val MSE = 663663.19\n",
      "Epoch 20: Train MSE = 463271.71, Val MSE = 658567.52\n",
      "Epoch 21: Train MSE = 461758.33, Val MSE = 653628.41\n",
      "Epoch 22: Train MSE = 460310.31, Val MSE = 648840.43\n",
      "Epoch 23: Train MSE = 458924.78, Val MSE = 644198.35\n",
      "Epoch 24: Train MSE = 457599.00, Val MSE = 639697.14\n",
      "Epoch 25: Train MSE = 456330.35, Val MSE = 635331.98\n",
      "Epoch 26: Train MSE = 455116.34, Val MSE = 631098.21\n",
      "Epoch 27: Train MSE = 453954.56, Val MSE = 626991.37\n",
      "Epoch 28: Train MSE = 452842.74, Val MSE = 623007.15\n",
      "Epoch 29: Train MSE = 451778.69, Val MSE = 619141.42\n",
      "Epoch 30: Train MSE = 450760.31, Val MSE = 615390.19\n",
      "Epoch 31: Train MSE = 449785.60, Val MSE = 611749.63\n",
      "Epoch 32: Train MSE = 448852.67, Val MSE = 608216.04\n",
      "Epoch 33: Train MSE = 447959.67, Val MSE = 604785.89\n",
      "Epoch 34: Train MSE = 447104.87, Val MSE = 601455.73\n",
      "Epoch 35: Train MSE = 446286.59, Val MSE = 598222.29\n",
      "Epoch 36: Train MSE = 445503.24, Val MSE = 595082.39\n",
      "Epoch 37: Train MSE = 444753.28, Val MSE = 592032.98\n",
      "Epoch 38: Train MSE = 444035.27, Val MSE = 589071.11\n",
      "Epoch 39: Train MSE = 443347.81, Val MSE = 586193.94\n",
      "Epoch 40: Train MSE = 442689.57, Val MSE = 583398.76\n",
      "Epoch 41: Train MSE = 442059.26, Val MSE = 580682.91\n",
      "Epoch 42: Train MSE = 441455.67, Val MSE = 578043.87\n",
      "Epoch 43: Train MSE = 440877.63, Val MSE = 575479.18\n",
      "Epoch 44: Train MSE = 440324.03, Val MSE = 572986.50\n",
      "Epoch 45: Train MSE = 439793.81, Val MSE = 570563.55\n",
      "Epoch 46: Train MSE = 439285.94, Val MSE = 568208.13\n",
      "Epoch 47: Train MSE = 438799.45, Val MSE = 565918.13\n",
      "Epoch 48: Train MSE = 438333.41, Val MSE = 563691.51\n",
      "Epoch 49: Train MSE = 437886.93, Val MSE = 561526.30\n",
      "Epoch 50: Train MSE = 437459.15, Val MSE = 559420.60\n",
      "Epoch 51: Train MSE = 437049.27, Val MSE = 557372.59\n",
      "Epoch 52: Train MSE = 436656.51, Val MSE = 555380.49\n",
      "Epoch 53: Train MSE = 436280.11, Val MSE = 553442.60\n",
      "Epoch 54: Train MSE = 435919.37, Val MSE = 551557.27\n",
      "Epoch 55: Train MSE = 435573.61, Val MSE = 549722.90\n",
      "Epoch 56: Train MSE = 435242.18, Val MSE = 547937.96\n",
      "Epoch 57: Train MSE = 434924.45, Val MSE = 546200.98\n",
      "Epoch 58: Train MSE = 434619.83, Val MSE = 544510.50\n",
      "Epoch 59: Train MSE = 434327.76, Val MSE = 542865.15\n",
      "Epoch 60: Train MSE = 434047.67, Val MSE = 541263.60\n",
      "Epoch 61: Train MSE = 433779.07, Val MSE = 539704.54\n",
      "Epoch 62: Train MSE = 433521.44, Val MSE = 538186.73\n",
      "Epoch 63: Train MSE = 433274.32, Val MSE = 536708.96\n",
      "Epoch 64: Train MSE = 433037.25, Val MSE = 535270.07\n",
      "Epoch 65: Train MSE = 432809.79, Val MSE = 533868.92\n",
      "Epoch 66: Train MSE = 432591.52, Val MSE = 532504.42\n",
      "Epoch 67: Train MSE = 432382.06, Val MSE = 531175.51\n",
      "Epoch 68: Train MSE = 432181.01, Val MSE = 529881.18\n",
      "Epoch 69: Train MSE = 431988.02, Val MSE = 528620.43\n",
      "Epoch 70: Train MSE = 431802.74, Val MSE = 527392.31\n",
      "Epoch 71: Train MSE = 431624.83, Val MSE = 526195.90\n",
      "Epoch 72: Train MSE = 431453.97, Val MSE = 525030.30\n",
      "Epoch 73: Train MSE = 431289.87, Val MSE = 523894.63\n",
      "Epoch 74: Train MSE = 431132.23, Val MSE = 522788.07\n",
      "Epoch 75: Train MSE = 430980.77, Val MSE = 521709.79\n",
      "Epoch 76: Train MSE = 430835.22, Val MSE = 520659.02\n",
      "Epoch 77: Train MSE = 430695.34, Val MSE = 519634.98\n",
      "Epoch 78: Train MSE = 430560.87, Val MSE = 518636.95\n",
      "Epoch 79: Train MSE = 430431.59, Val MSE = 517664.20\n",
      "Epoch 80: Train MSE = 430307.27, Val MSE = 516716.04\n",
      "Epoch 81: Train MSE = 430187.70, Val MSE = 515791.80\n",
      "Epoch 82: Train MSE = 430072.67, Val MSE = 514890.83\n",
      "Epoch 83: Train MSE = 429961.99, Val MSE = 514012.50\n",
      "Epoch 84: Train MSE = 429855.48, Val MSE = 513156.19\n",
      "Epoch 85: Train MSE = 429752.95, Val MSE = 512321.32\n",
      "Epoch 86: Train MSE = 429654.24, Val MSE = 511507.30\n",
      "Epoch 87: Train MSE = 429559.17, Val MSE = 510713.59\n",
      "Epoch 88: Train MSE = 429467.60, Val MSE = 509939.63\n",
      "Epoch 89: Train MSE = 429379.38, Val MSE = 509184.90\n",
      "Epoch 90: Train MSE = 429294.36, Val MSE = 508448.90\n",
      "Epoch 91: Train MSE = 429212.40, Val MSE = 507731.12\n",
      "Epoch 92: Train MSE = 429133.38, Val MSE = 507031.10\n",
      "Epoch 93: Train MSE = 429057.17, Val MSE = 506348.36\n",
      "Epoch 94: Train MSE = 428983.65, Val MSE = 505682.45\n",
      "Epoch 95: Train MSE = 428912.71, Val MSE = 505032.93\n",
      "Epoch 96: Train MSE = 428844.23, Val MSE = 504399.38\n",
      "Epoch 97: Train MSE = 428778.12, Val MSE = 503781.38\n",
      "Epoch 98: Train MSE = 428714.26, Val MSE = 503178.54\n",
      "Epoch 99: Train MSE = 428652.57, Val MSE = 502590.46\n"
     ]
    }
   ],
   "source": [
    "perceptron = Perceptron()\n",
    "initialize_network(perceptron)\n",
    "\n",
    "losses = perceptron.fit(\n",
    "    x_train,\n",
    "    y_train,\n",
    "    epochs=100, \n",
    "    learning_rate=0.0001,\n",
    "    x_val=x_val,\n",
    "    y_val=y_val\n",
    ")"
   ]
  },
  {
   "cell_type": "code",
   "execution_count": 138,
   "metadata": {},
   "outputs": [],
   "source": [
    "def draw_training_graph(train_loss, val_loss):\n",
    "    plt.figure(figsize=(10, 6))\n",
    "    plt.plot(train_loss, 'o-', color='green', label='Training Loss')\n",
    "    plt.plot(val_loss, 'o-', color='lightblue', label='Validation Loss')\n",
    "    plt.title('Model Mean Squared Error')\n",
    "    plt.ylabel('MSE')\n",
    "    plt.xlabel('Epoch')\n",
    "    plt.legend(loc='upper right')\n",
    "    plt.grid(True, linestyle='--', alpha=0.7)\n",
    "    plt.tight_layout()\n",
    "    plt.show()\n"
   ]
  },
  {
   "cell_type": "code",
   "execution_count": 139,
   "metadata": {},
   "outputs": [
    {
     "data": {
      "image/png": "[encoded data removed]",
      "text/plain": [
       "<Figure size 1000x600 with 1 Axes>"
      ]
     },
     "metadata": {},
     "output_type": "display_data"
    }
   ],
   "source": [
    "\n",
    "draw_training_graph(losses['train']['mse'], losses['validation']['mse'])"
   ]
  },
  {
   "cell_type": "markdown",
   "metadata": {},
   "source": [
    "The graph of the neural network can change by rerunning it a few times you can get a correct one. Where the validation loss is lower highter than the training loss."
   ]
  },
  {
   "cell_type": "code",
   "execution_count": 140,
   "metadata": {},
   "outputs": [
    {
     "name": "stdout",
     "output_type": "stream",
     "text": [
      "Mean Squared Error: 338742.69231556274\n",
      "Root Mean Squared Error: 582.0160584688044\n"
     ]
    }
   ],
   "source": [
    "mse = 0\n",
    "\n",
    "for i, row in x_test.iterrows():\n",
    "    x1, x2, x3 = row\n",
    "    y = y_test[i]\n",
    "\n",
    "    prediction = perceptron.predict(x1, x2, x3)\n",
    "    \n",
    "    # Calculate squared error for this sample\n",
    "    squared_error = (y - prediction) ** 2\n",
    "    \n",
    "    # Add to running sum\n",
    "    mse += squared_error\n",
    "\n",
    "# Calculate mean (average) of squared errors\n",
    "mse = mse / len(x_test)\n",
    "\n",
    "# Calculate RMSE (square root of MSE)\n",
    "rmse = math.sqrt(mse)\n",
    "\n",
    "print(f\"Mean Squared Error: {mse}\")\n",
    "print(f\"Root Mean Squared Error: {rmse}\")"
   ]
  },
  {
   "cell_type": "markdown",
   "metadata": {},
   "source": [
    "We can see our model right now is about half a kilo of per prediction. Something we could do is change the learning rate. I played a bit with the epochs and with the learning rate and this is about the lowest i would get. By just playing around.\n",
    "\n",
    "By looking at these results you can conclude this simple perceptron is not good enough to predict the weight on the penguins. This may be caused by that its to simple yet."
   ]
  }
 ],
 "metadata": {
  "kernelspec": {
   "display_name": "assignment1-vMUDey0t-py3.10",
   "language": "python",
   "name": "python3"
  },
  "language_info": {
   "codemirror_mode": {
    "name": "ipython",
    "version": 3
   },
   "file_extension": ".py",
   "mimetype": "text/x-python",
   "name": "python",
   "nbconvert_exporter": "python",
   "pygments_lexer": "ipython3",
   "version": "3.10.11"
  }
 },
 "nbformat": 4,
 "nbformat_minor": 2
}
